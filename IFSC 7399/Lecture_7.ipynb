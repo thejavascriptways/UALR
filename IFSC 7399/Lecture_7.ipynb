{
 "cells": [
  {
   "cell_type": "markdown",
   "metadata": {
    "id": "X3ZJsHTffy0i"
   },
   "source": [
    "# Strings"
   ]
  },
  {
   "cell_type": "markdown",
   "metadata": {
    "id": "KDgoq9LAPHTw"
   },
   "source": [
    "## Strings Part 1\n",
    "A string can be read from the standard input using the function **input()**. Moreover, you can define it in single or double quotes.\n",
    "\n"
   ]
  },
  {
   "cell_type": "code",
   "execution_count": null,
   "metadata": {
    "id": "QLgsKyxceb_X"
   },
   "outputs": [],
   "source": [
    "a = 'No man is an island'\n",
    "b = \"Who is John Galt?\"\n",
    "your_string = input(\"Enter Your String:\")\n",
    "print(a)\n",
    "print(b)\n",
    "print(your_string)"
   ]
  },
  {
   "cell_type": "markdown",
   "metadata": {
    "id": "Qc4uHy7EewEe"
   },
   "source": [
    "## Strings Part 2\n",
    "You can repeat a string by multiplying it by an integer\n"
   ]
  },
  {
   "cell_type": "code",
   "execution_count": null,
   "metadata": {
    "id": "mn20d2vueyHt"
   },
   "outputs": [],
   "source": [
    "print('>_< ' * 5)"
   ]
  },
  {
   "cell_type": "markdown",
   "metadata": {
    "id": "Yxxx_NJ2gDRU"
   },
   "source": [
    "## Strings Part 3\n",
    "A string in Python is a sequence of characters. The function **len(some_string)** returns how many characters there are in a string."
   ]
  },
  {
   "cell_type": "code",
   "execution_count": null,
   "metadata": {
    "id": "nnCFYo_agOqv"
   },
   "outputs": [],
   "source": [
    "print(len('abcdefghijklmnopqrstuvwxyz'))"
   ]
  },
  {
   "cell_type": "markdown",
   "metadata": {
    "id": "c7id17AugR-R"
   },
   "source": [
    "## Strings Part 4\n",
    "Every object in Python can be converted to string using the function *str(some_object)* . So we can convert numbers to strings.\n"
   ]
  },
  {
   "cell_type": "code",
   "execution_count": null,
   "metadata": {
    "id": "-LDrtYSfggPO"
   },
   "outputs": [],
   "source": [
    "s = str(2 ** 100)\n",
    "\n",
    "print(s)\n",
    "print(len(s))"
   ]
  },
  {
   "cell_type": "markdown",
   "metadata": {
    "id": "ROe11utKgmlu"
   },
   "source": [
    "## A Single Character\n",
    "* A slice gives from the given string one character or some fragment: substring or subsequence.\n",
    "* The simplest form of slice is a single character slice: `S[i]` gives ith character of the string.\n",
    "* Now, the hardest thing to get in all this string business: indexing starts at 0; the first element has index 0, the second has index 1, and so on.\n",
    "    * That is, if `S='Hello'`, `S[0]=='H', S[1]=='e', S[2]=='l', S[3]=='l', S[4]=='o'`.\n"
   ]
  },
  {
   "cell_type": "code",
   "execution_count": null,
   "metadata": {
    "id": "1jxx5TM1hI63"
   },
   "outputs": [],
   "source": [
    "S = 'Hello'\n",
    "print(S[0])\n",
    "print(S[1])\n",
    "print(S[2])\n",
    "print(S[3])\n",
    "print(S[4])"
   ]
  },
  {
   "cell_type": "markdown",
   "metadata": {
    "id": "2BjvS692hUR6"
   },
   "source": [
    "## Negative Index\n",
    "* If you specify a negative index, it is counted starting at the end of your string, starting with the number -1.\n",
    "    * That said, `S[-1]=='o', S[-2]=='l', S[-3]=='l', S[-4]=='e', S[-5] == 'H'`."
   ]
  },
  {
   "cell_type": "code",
   "execution_count": null,
   "metadata": {
    "id": "imw9yoy1hVNH"
   },
   "outputs": [],
   "source": [
    "S = 'Hello'\n",
    "print(S[-1])\n",
    "print(S[-2])\n",
    "print(S[-3])\n",
    "print(S[-4])\n",
    "print(S[-5])"
   ]
  },
  {
   "cell_type": "markdown",
   "metadata": {
    "id": "I8xO89gFhxWD"
   },
   "source": [
    "## Index Summary\n",
    "String S | H | e | l | l | o |\n",
    "--------|----|----|----|-----|--\n",
    "Index | S[0]| S[1]| S[2]| S[3]| S[4]|\n",
    "Index | S[-5] | S[-4] | S[-3] | S[-2] | S[-1] |"
   ]
  },
  {
   "cell_type": "code",
   "execution_count": null,
   "metadata": {
    "id": "2UWjFHzxiJ25"
   },
   "outputs": [],
   "source": [
    "s=\"Hello\"\n",
    "print(\"Hello Forward\")\n",
    "for i in range(0, len(s)):\n",
    "    print(s[i])\n",
    "\n",
    "print(\"Hello Backward\")\n",
    "for i in range(-1, -len(s)-1, -1):\n",
    "    print(s[i])"
   ]
  },
  {
   "cell_type": "markdown",
   "metadata": {
    "id": "P_ZZYyI_ia6U"
   },
   "source": [
    "## Last Character\n",
    "* If the index in the slice `s[i]` is greater than or equal to `len(s)` or less than `-len(s)` the following error occurs:\n",
    "    * **IndexError: string index out of range.**\n",
    "* So it's a bad idea to ask Python to print(s[100]) for a short string like `s = \"Good Morning\" `.\n",
    "    * For such string, there is no 101-th symbol (never forget any indexing in any programming languages starts at 0; the first symbol always has **index 0**).\n"
   ]
  },
  {
   "cell_type": "code",
   "execution_count": null,
   "metadata": {
    "id": "SXXW_k_ZoNXs"
   },
   "outputs": [],
   "source": [
    "s = \"Good Morning\"\n",
    "print(len(s))\n",
    "\n",
    "# The last character is the length of the string minus 1\n",
    "last = len(s) - 1\n",
    "print(last)\n",
    "print(s[last])"
   ]
  },
  {
   "cell_type": "markdown",
   "metadata": {
    "id": "xORVUq5GoVCY"
   },
   "source": [
    "## Substring\n",
    "\n",
    "Recall how indexes work on a string.\n",
    "\n",
    "String S | H | e | l | l | o |\n",
    "--------|----|----|----|-----|--\n",
    "Index | S[0]| S[1]| S[2]| S[3]| S[4]|\n",
    "Index | S[-5] | S[-4] | S[-3] | S[-2] | S[-1] |\n",
    "\n",
    "* If you call slice with two parameters `s[a:b]`, it returns the substring of length b - a, which starts with the character at index a and ends with the character at index b, not including it.\n",
    "* For example, if `s = 'Hello'`, `s[1:4] == 'ell'` (for slice s[1:4] only indexes 1,2 and 3 are included).\n",
    "* You can get the same substring using s[-4:-1] (recall negative indexing starts at the end of a string).\n",
    "* You may mix positive and negative indexes in the same slice:\n",
    "    * for example, `s[1:-1]` is exactly the same substring (the slice begins with the character with index 1 and ends with an index of -1, not including it)."
   ]
  },
  {
   "cell_type": "code",
   "execution_count": null,
   "metadata": {
    "id": "zvh2jzZApQKH"
   },
   "outputs": [],
   "source": [
    "s = 'Hello'\n",
    "print(s[1:4])\n",
    "print(s[-4:-1])\n",
    "print(s[1:-1])"
   ]
  },
  {
   "cell_type": "markdown",
   "metadata": {
    "id": "JKMHr_mmpYYx"
   },
   "source": [
    "## String Parameters\n",
    "* Slices with two parameters never cause IndexError.\n",
    "    * For example, for `s = 'Hello'` the slice `s[1:5]` returns the string 'ello', and the result is the same as if the second index was very large, like `s[1:100]`.\n",
    "* If you omit the second parameter (but preserve the colon), then the slice continues until the end of a string.\n",
    "    * For example, to remove the first character from a string (its index is 0) take the slice `s[1:]`. Similarly, if you omit the first parameter (`s[:7])`, then Python takes the slice, starting at the beginning of a string.\n",
    "    * To remove the last character from a string, you can use slice s[:-1].\n",
    "    * The slice s[:] is equal to a string s itself."
   ]
  },
  {
   "cell_type": "code",
   "execution_count": null,
   "metadata": {
    "id": "1CFLp2w8qGcW"
   },
   "outputs": [],
   "source": [
    "s = 'Hello'\n",
    "print(s[1:5])\n",
    "print(s[1:100])\n",
    "print(s[1:])\n",
    "print(s[:-1])\n",
    "print(s[:])"
   ]
  },
  {
   "cell_type": "markdown",
   "metadata": {
    "id": "wm5uIX8XqR4K"
   },
   "source": [
    "## Step Parameter\n",
    "* If you specify a slice with three parameters `S[a:b:d]`, the third parameter specifies the step, same as for function range().\n",
    "* In this case only the characters with the indexes a., a + d, a + 2 * d,... and so on are taken, until character with index b is reached and, as usual, not including it.\n",
    "* For instance, if the third parameter is equal to 2, the slice takes every second character.\n",
    "* We want to tell you the fun fact: if the step of the slice equals to -1, the characters go in reverse order. :) You can reverse a string S with this: `S[::-1]`."
   ]
  },
  {
   "cell_type": "code",
   "execution_count": null,
   "metadata": {
    "id": "SOKKby__SBGp"
   },
   "outputs": [],
   "source": [
    "s = 'abcdefg'\n",
    "print(s)\n",
    "print(\"s[1] is {}\".format(s[1]))\n",
    "print(\"s[-1] is {}\".format(s[-1]))\n",
    "print(\"s[1:3] is {}\".format(s[1:3]))\n",
    "print(\"s[1:-1] is {}\".format(s[1:-1]))\n",
    "print(\"s[:3] is {}\".format(s[:3]))\n",
    "print(\"s[2:] is {}\".format(s[2:]))\n",
    "print(\"s[:-1] is {}\".format(s[:-1]))\n",
    "\n",
    "print(\"s[::2] is {}\".format(s[::2]))\n",
    "print(\"s[1::2] is {}\".format(s[1::2]))\n",
    "print(\"s[::-1] is {}\".format(s[::-1]))\n",
    "print(\"\\n\")\n",
    "\n",
    "s = 'abcdefghijklm'\n",
    "print(s)\n",
    "print(\"s[0:10:2] is {}\".format(s[0:10:2]))\n",
    "\n",
    "for i in range(0, 10, 2):\n",
    "    print(i, s[i])\n"
   ]
  },
  {
   "cell_type": "markdown",
   "metadata": {
    "id": "Y69ZL1noSql3"
   },
   "source": [
    "## find() Method\n",
    "* A method is a function that is bound to an object.\n",
    "* When a method is called, the method is applied to an object and does some computations related to it.\n",
    "* Methods are invoked as object_name.method_name(arguments).\n",
    "* For example, in `s.find(\"e\")` the string method *find()* is applied to the string `s` with one argument `\"e\"`.\n",
    "* The method **find()** takes a substring as argument and searches for it inside the string on which it's called.\n",
    "* The function returns the index of the first occurrence of a substring. If a substring is not found, the method returns -1.\n"
   ]
  },
  {
   "cell_type": "code",
   "execution_count": null,
   "metadata": {
    "id": "g_LRhlB1THgI"
   },
   "outputs": [],
   "source": [
    "s = 'Hello'\n",
    "print(s.find('e')) # 1\n",
    "print(s.find('ll')) # 2\n",
    "print(s.find('L')) # -1 (not found)"
   ]
  },
  {
   "cell_type": "markdown",
   "metadata": {
    "id": "fzpgytBKTROy"
   },
   "source": [
    "## rfind() Method\n",
    "Similarly, the method **rfind()** returns the index of the last occurrence of the substring.\n"
   ]
  },
  {
   "cell_type": "code",
   "execution_count": null,
   "metadata": {
    "id": "DdpzTQVSTXy_"
   },
   "outputs": [],
   "source": [
    "s = 'abracadabra'\n",
    "print(s.find('b'))\n",
    "print(s.rfind('b'))"
   ]
  },
  {
   "cell_type": "markdown",
   "metadata": {
    "id": "IpOcRqX0TgGs"
   },
   "source": [
    "## More on find() and rfind() methods\n",
    "* If you call **find()** with three arguments `s.find(substring, left, right)`, the search is performed inside the s[left:right) slice.\n",
    "    * It search for a `substring` within a string, `s`, starting from the index `left` and up to, but not including, the index `right`.\n",
    "* If you specify only two arguments, like `s.find(substring, left)` , the search is performed in the slice `s[left:]`, that is, starting with the character at index left until the end of a string.\n",
    "* Method s.find(substring) Returns the lowest index of the substring if it is found in a given string. If it’s not found then it returns -1."
   ]
  },
  {
   "cell_type": "code",
   "execution_count": null,
   "metadata": {
    "id": "az14Cw_OUBJv"
   },
   "outputs": [],
   "source": [
    "s = 'my name is bond, james bond, okay?'\n",
    "print(s.find('bond'))\n",
    "print(s.find('bond', 12))\n",
    "print(s.find ('bond', 23, 26))\n",
    "print(s.find ('bond', 23, 27))"
   ]
  },
  {
   "cell_type": "markdown",
   "metadata": {
    "id": "07ScLP1JUWEQ"
   },
   "source": [
    "## replace() Method\n",
    "* Method **replace()** replaces all occurrences of a given substring with another one.\n",
    "* Syntax `s.replace(old, new)` takes the string `s` and replaces all occurrences of substring old with the substring new.\n",
    "* You can pass the third argument count using replace() method, like this: s.replace(old, new, count) . If the third argument is passed, only first count occurrences are replaced.\n"
   ]
  },
  {
   "cell_type": "code",
   "execution_count": null,
   "metadata": {
    "id": "poyAGhhnUttL"
   },
   "outputs": [],
   "source": [
    "print('a bar is a bar, essentially'.replace('bar', 'pub'))\n",
    "print('a bar is a bar, essentially'.replace('bar', 'pub', 1))"
   ]
  },
  {
   "cell_type": "markdown",
   "metadata": {
    "id": "5E2ttZUNVEfF"
   },
   "source": [
    "## count() Method\n",
    "* This method **count()** counts the number of occurrences of one string within another string.\n",
    "* The simplest form is this one: `s.count(substring)`. Only non-overlapping occurrences are taken into\n",
    "account.\n",
    "* If you specify three parameters s.count(substring, left, right) , the count is performed within the slice `s[left:right]`."
   ]
  },
  {
   "cell_type": "code",
   "execution_count": null,
   "metadata": {
    "id": "-xdWYYWTVeoE"
   },
   "outputs": [],
   "source": [
    "print('Abracadabra'.count('a')) # this will print '4'\n",
    "\n",
    "print(('aaaaaaaaaa').count('aa')) # and this will print '5'\n",
    "\n",
    "print('A sailor went to sea to see what he could see, but all he could have see, was sea, sea, sea'.count('se', 25, -3))"
   ]
  },
  {
   "cell_type": "markdown",
   "metadata": {
    "id": "c7BFeyAZXpoF"
   },
   "source": [
    "## Remove Leading and Trailing Whitspace\n",
    "To remove leading and trailing whitespace from a string, use the strip method: `mystring = mystring.strip()`"
   ]
  },
  {
   "cell_type": "markdown",
   "metadata": {
    "id": "cjeLCwhWXv3K"
   },
   "source": [
    "## Upper Case\n",
    "To convert a string to upper case, use the upper method:\n",
    "```\n",
    "mystring = mystring.upper()\n",
    "```"
   ]
  },
  {
   "cell_type": "markdown",
   "metadata": {
    "id": "irKHMrfWX-AW"
   },
   "source": [
    "## Lower Case\n",
    "To convert a string to lower case, use the lower method:\n",
    "```\n",
    "mystring = mystring.lower()\n",
    "```"
   ]
  },
  {
   "cell_type": "markdown",
   "metadata": {
    "id": "qaTAee9RYMln"
   },
   "source": [
    "## Remove a Line Feed (when reading a file)\n",
    "To remove the line feed character at the end of string during a readline:\n",
    "```\n",
    "mystring = mystring.replace(\"\\n\",\"\")\n",
    "```"
   ]
  },
  {
   "cell_type": "markdown",
   "metadata": {
    "id": "eBzZ1VHpbTdW"
   },
   "source": [
    "## Summary of String Methods\n",
    "Method | Definition\n",
    "-------| ----------\n",
    "capitalize() | Converts the first character to upper case\n",
    "casefold() | \tConverts string into lower case\n",
    "center()\t| Returns a centered string\n",
    "count()\t| Returns the number of times a specified value occurs in a string\n",
    "encode()\t| Returns an encoded version of the string\n",
    "endswith()| \tReturns true if the string ends with the specified value\n",
    "expandtabs()\t| Sets the tab size of the string\n",
    "find()\t| Searches the string for a specified value and returns the position of where it was found\n",
    "format() | \tFormats specified values in a string\n",
    "format_map()\t| Formats specified values in a string\n",
    "index()\t| Searches the string for a specified value and returns the position of where it was found\n",
    "isalnum()| \tReturns True if all characters in the string are alphanumeric\n",
    "isalpha()| \tReturns True if all characters in the string are in the alphabet\n",
    "isascii()| \tReturns True if all characters in the string are ascii characters\n",
    "isdecimal()| \tReturns True if all characters in the string are decimals\n",
    "isdigit()| \tReturns True if all characters in the string are digits\n",
    "isidentifier()| \tReturns True if the string is an identifier\n",
    "islower()| \tReturns True if all characters in the string are lower case\n",
    "isnumeric()\t| Returns True if all characters in the string are numeric\n",
    "isprintable()\t| Returns True if all characters in the string are printable\n",
    "isspace()\t| Returns True if all characters in the string are whitespaces\n",
    "istitle()\t| Returns True if the string follows the rules of a title\n",
    "isupper()\t| Returns True if all characters in the string are upper case\n",
    "join()\t| Converts the elements of an iterable into a string\n",
    "ljust()\t| Returns a left justified version of the string\n",
    "lower()\t| Converts a string into lower case\n",
    "lstrip()\t| Returns a left trim version of the string\n",
    "maketrans()\t| Returns a translation table to be used in translations\n",
    "partition()\t| Returns a tuple where the string is parted into three parts\n",
    "replace()\t| Returns a string where a specified value is replaced with a specified value\n",
    "rfind()\t| Searches the string for a specified value and returns the last position of where it was found\n",
    "rindex()\t| Searches the string for a specified value and returns the last position of where it was found\n",
    "rjust()\t| Returns a right justified version of the string\n",
    "rpartition()\t| Returns a tuple where the string is parted into three parts\n",
    "rsplit()\t| Splits the string at the specified separator, and returns a list\n",
    "rstrip()\t| Returns a right trim version of the string\n",
    "split()\t| Splits the string at the specified separator, and returns a list\n",
    "splitlines()\t| Splits the string at line breaks and returns a list\n",
    "startswith()\t| Returns true if the string starts with the specified value\n",
    "strip()\t| Returns a trimmed version of the string\n",
    "swapcase()\t| Swaps cases, lower case becomes upper case and vice versa\n",
    "title()\t| Converts the first character of each word to upper case\n",
    "translate()| \tReturns a translated string\n",
    "upper()| \tConverts a string into upper case\n",
    "zfill()| Fills the string with a specified number of 0 values at the beginning"
   ]
  },
  {
   "cell_type": "markdown",
   "metadata": {
    "id": "kYjv-WRlVsfS"
   },
   "source": [
    "# Further Reading from the Think Python Book\n",
    "* [Strings](https://greenteapress.com/thinkpython2/html/thinkpython2009.html)\n",
    "    * [A String is a Sequence](https://greenteapress.com/thinkpython2/html/thinkpython2009.html#sec92)\n",
    "    * [len Function](https://greenteapress.com/thinkpython2/html/thinkpython2009.html#sec93)\n",
    "    * [Traversing with a For Loop](https://greenteapress.com/thinkpython2/html/thinkpython2009.html#sec94)\n",
    "    * [String Slices](https://greenteapress.com/thinkpython2/html/thinkpython2009.html#sec95)\n",
    "    * [Strings are Immutable](https://greenteapress.com/thinkpython2/html/thinkpython2009.html#sec96)\n",
    "    * [Searching](https://greenteapress.com/thinkpython2/html/thinkpython2009.html#sec97)\n",
    "    * [Looping and Counting](https://greenteapress.com/thinkpython2/html/thinkpython2009.html#sec98)\n",
    "    * [String Methods](https://greenteapress.com/thinkpython2/html/thinkpython2009.html#sec99)\n",
    "    * [String Comparison](https://greenteapress.com/thinkpython2/html/thinkpython2009.html#sec101)\n",
    "    * [Debugging](https://greenteapress.com/thinkpython2/html/thinkpython2009.html#sec102)\n",
    "    * [Glossary](https://greenteapress.com/thinkpython2/html/thinkpython2009.html#sec103)\n",
    "    * [Exercises](https://greenteapress.com/thinkpython2/html/thinkpython2009.html#sec104)"
   ]
  },
  {
   "cell_type": "markdown",
   "metadata": {
    "id": "2OSf7pY5ccfz"
   },
   "source": [
    "# Ex1: Slice a String\n",
    "\n",
    "* Prompt for a string:\n",
    "    * In the first line, print the third character of this string.\n",
    "    * In the second line, print the second to last character of this string.\n",
    "    * In the third line, print the first five characters of this string.\n",
    "    * In the fourth line, print all but the last two characters of this string.\n",
    "    * In the fifth line, print all the characters of this string with even indices (remember indexing starts at 0, so the characters are displayed starting with the first).\n",
    "    * In the sixth line, print all the characters of this string with odd indices (i.e. starting with the second character in the string).\n",
    "    * In the seventh line, print all the characters of the string in reverse order.\n",
    "    * In the eighth line, print every second character of the string in reverse order, starting from the last one.\n",
    "    * In the ninth line, print the length of the given string.\n",
    "* Do not use any loops. Each answer can be accomplished in a single line of code.\n",
    "\n",
    "```\n",
    "Enter a string: Hello\n",
    "l\n",
    "l\n",
    "Hello\n",
    "Hel\n",
    "Hlo\n",
    "el\n",
    "olleH\n",
    "olH\n",
    "5\n",
    "\n",
    "Enter a string: Good Morning\n",
    "o\n",
    "n\n",
    "Good\n",
    "Good Morni\n",
    "Go onn\n",
    "odMrig\n",
    "gninroM dooG\n",
    "girMdo\n",
    "12\n",
    "```"
   ]
  },
  {
   "cell_type": "markdown",
   "metadata": {
    "id": "lRy6UPODd8xn"
   },
   "source": [
    "# Ex2: Number of Words\n",
    "* Prompt for a string consisting of words separated by a single space. Display how many words it has.\n",
    "* **Hint:** Count the number of spaces.\n",
    "```\n",
    "  Enter a string: How are you doing?\n",
    "  4 words\n",
    "```"
   ]
  },
  {
   "cell_type": "markdown",
   "metadata": {
    "id": "MAJjtq7deprJ"
   },
   "source": [
    "# Ex3: Two Halves of a String\n",
    "* Prompt for a string and cut it into two \"equal\" parts (If the length of the string is odd, place the center character in the first string, so that the first string contains one more characther than the second).\n",
    "* Print a new string on a single row with the first and second halves interchanged (second half first and the first half second)\n",
    "* Do NOT use the if statement in this task.\n",
    "\n",
    "```\n",
    "Enter a string: bigboy\n",
    "boybig\n",
    "```\n"
   ]
  },
  {
   "cell_type": "markdown",
   "metadata": {
    "id": "7pn0nhWffyGH"
   },
   "source": [
    "# Ex4: Swap Two Words\n",
    "* Prompt for a string consisting of exactly two words separated by a space.\n",
    "* Print a new string with the first and second word positions swapped (the second word is printed first).\n",
    "* This task should not use loops or an if statement.\n",
    "\n",
    "```\n",
    "Enter a string: Hello World\n",
    "World Hello\n",
    "```\n"
   ]
  },
  {
   "cell_type": "markdown",
   "metadata": {
    "id": "QnBQClyigtXg"
   },
   "source": [
    "# Ex5: First and Last Occurrence\n",
    "* Prompt for a string. Determine if the string contains the letter \"f\"\n",
    "    * If the string contains one letter \"f\", print the index\n",
    "    * If the string contains more than one letter \"f\", print the index of the first and last occurance\n",
    "    * If the string does not contain any letter \"f\", then do not print zero (0)\n",
    "\n",
    "```\n",
    "Enter a string: comfort\n",
    "3\n",
    "\n",
    "Enter a string: office\n",
    "1 2\n",
    "\n",
    "Enter a string: hello\n",
    "0\n",
    "```"
   ]
  },
  {
   "cell_type": "markdown",
   "metadata": {
    "id": "PUwWTJgFjFpi"
   },
   "source": [
    "# Ex6: Remove Fragment\n",
    "* Prompt for a string that contains the letter \"h\" at least two times.\n",
    "* In the string, remove the first and last occurance of the letter \"h\" as well as all the characters between them, then print the result.\n",
    "\n",
    "```\n",
    "Enter a string: ah2h3hb\n",
    "ab\n",
    "```\n"
   ]
  },
  {
   "cell_type": "markdown",
   "metadata": {
    "id": "j3gJwvuelG_Q"
   },
   "source": [
    "# Ex7: Reverse Fragment\n",
    "* Prompt for a string containg the letter \"h\" at least two times.\n",
    "* Reverse the sequence of characters between the first letter \"h\" and the last letter \"h\"\n",
    "\n",
    "```\n",
    "Enter a string: abch123h456hdef\n",
    "abch654h321hdef\n",
    "```\n"
   ]
  },
  {
   "cell_type": "markdown",
   "metadata": {
    "id": "p6HCWjWUmCJW"
   },
   "source": [
    "# Ex8: Replace Substring\n",
    "* Prompt for a string.\n",
    "* Replace all of the number \"1\" with \"one\" and print the result.\n",
    "\n",
    "```\n",
    "Enter a string: 1+1=2\n",
    "one+one=2\n",
    "```\n"
   ]
  },
  {
   "cell_type": "markdown",
   "metadata": {
    "id": "K4ZfXyqNmouG"
   },
   "source": [
    "# Ex9: Delete Character\n",
    "* Prompt for a string.\n",
    "* Remove all of the letter \"@\" from the string and print it.\n",
    "```\n",
    "Enter a string: jsmith@ualr.edu\n",
    "jsmithualr.edu\n",
    "```\n"
   ]
  }
 ],
 "metadata": {
  "colab": {
   "provenance": [],
   "toc_visible": true
  },
  "kernelspec": {
   "display_name": "Python 3",
   "language": "python",
   "name": "python3"
  },
  "language_info": {
   "codemirror_mode": {
    "name": "ipython",
    "version": 3
   },
   "file_extension": ".py",
   "mimetype": "text/x-python",
   "name": "python",
   "nbconvert_exporter": "python",
   "pygments_lexer": "ipython3",
   "version": "3.7.7"
  }
 },
 "nbformat": 4,
 "nbformat_minor": 1
}
