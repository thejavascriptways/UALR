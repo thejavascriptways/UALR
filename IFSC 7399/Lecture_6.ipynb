{
  "nbformat": 4,
  "nbformat_minor": 0,
  "metadata": {
    "colab": {
      "provenance": [],
      "toc_visible": true
    },
    "kernelspec": {
      "name": "python3",
      "display_name": "Python 3"
    },
    "language_info": {
      "name": "python"
    }
  },
  "cells": [
    {
      "cell_type": "markdown",
      "source": [
        "# Files and Functions\n",
        "\n"
      ],
      "metadata": {
        "id": "pzYNA7jKT86N"
      }
    },
    {
      "cell_type": "markdown",
      "source": [
        "# Reading and Writing to Files\n",
        "\n",
        "* One of the most powerful features of a computer is the ability to read and write files.\n",
        "* So far, you have been typing your input into a program.\n",
        "* In this lesson, we will learn how process a file that already has data in it.\n",
        "* A key function for working with files in Python is the **open()** statement.\n",
        "* The **open()** statement takes two parameters: **filename**, and **mode**.\n",
        "* There are four different modes for opening a file:\n",
        "    * \"r\" - Read - Default value. Opens a file for reading, an error occurs if the file does not exist\n",
        "    * \"a\" - Append - Opens a file for appending (adding data to the end of a file), creates the file if it does not exist\n",
        "    * \"w\" - Write - Opens a file for writing, creates the file if it does not exist; overwrites all data already in the file.\n",
        "    * \"x\" - Create - Creates the specified file, returns an error if the file exists\n",
        "* In addition you can specify if the file should be handled as binary or text mode:\n",
        "    * \"t\" - Text - Default value. File has letters and numbers; each line terminated with a linefeed\n",
        "    * \"b\" - Binary - Binary mode (e.g. images). File has unprintable characters, such as photos videos, and sound files.\n"
      ],
      "metadata": {
        "id": "018F7B6tUFci"
      }
    },
    {
      "cell_type": "markdown",
      "source": [
        "# Anatomy of a File\n",
        "* We are already used to creating files.\n",
        "* We can open up any text editor and begin type.\n",
        "* When we are finished with a line and go to the next line, we press the Enter key. When this key is pressed, a special character, known as a linefeed, is inserted in the file.\n",
        "* We can specify the linefeed in Python as \\n. **Note** that this is the backslash (above the enter key) and not the forward slash (below and to the left of the enter key).\n",
        "\n",
        "Assume we have the following file:\n",
        "```\n",
        "Hello!\n",
        "Welcome to demofile.txt\n",
        "This file is for testing purposes.\n",
        "Good Luck!\n",
        "```\n",
        "\n",
        "**Instruction** <br>\n",
        "* Copy, paste and save the above file as *DemoText.txt*. You will need in in the following examples.\n",
        "* Each line in the file ends with a linefeed.\n",
        "*The file actually contains:\n",
        "\n",
        "`Hello!\\nWelcome to demofile.txt\\nThis file is for testing purposes.\\nGood Luck!`\n"
      ],
      "metadata": {
        "id": "hJXFxURKU1W4"
      }
    },
    {
      "cell_type": "markdown",
      "source": [
        "# Printing a Linefeed\n",
        "* If you print a linefeed character in Python, then Python skips to the next line.\n",
        "* Try the following code:\n",
        "`print(\"line1\\nline2\\n\\nline4\")`\n",
        "\n",
        "will result in\n",
        "```\n",
        "line1\n",
        "line2\n",
        "\n",
        "line4\n",
        "```"
      ],
      "metadata": {
        "id": "xCW_aWb3VzaR"
      }
    },
    {
      "cell_type": "markdown",
      "source": [
        "# Reading an Entire File\n"
      ],
      "metadata": {
        "id": "zsRMknOuWFmg"
      }
    },
    {
      "cell_type": "markdown",
      "source": [
        "## The open() Statement\n",
        "* Before you can access a file, you must open it by name using the open() statement.\n",
        "    * If you open \"DemoText.txt\", it is assumed that the file is in the root of the file system.\n",
        "    * If the file is in a folder, say \"IFSC5399\", then you would specify \"IFSC5399/DemoText.txt\".\n",
        "\n",
        "```    \n",
        "demotextfile = open(\"DemoText.txt\")\n",
        "```\n",
        "* The code above is the same as:\n",
        "\n",
        "```\n",
        "demotextfile  = open(\"DemoText.txt\", \"rt\")\n",
        "```\n",
        "* Because \"r\" for read, and \"t\" for text are the default values, you do not need to specify them.\n",
        "* **Note**: Make sure the file exists, or else you will get an error."
      ],
      "metadata": {
        "id": "NH3RBTC9WLv5"
      }
    },
    {
      "cell_type": "markdown",
      "source": [
        "## The .read() method\n",
        "* The **.read()** method is used to read an entire file.\n",
        "    * The all lines of the contents (including any linefeeds) are placed in a string.\n",
        "\n",
        "```   \n",
        "  x = demotextfile.read()\n",
        "```"
      ],
      "metadata": {
        "id": "sxsgQjE7XFLR"
      }
    },
    {
      "cell_type": "markdown",
      "source": [
        "## Displaying the File Contents\n",
        "* You can display the contents of the file by simply printing it.\n",
        "* Note: what happens when a linefeed is printed...output is advanced to the beginning of the new line.\n",
        "\n",
        "```\n",
        "print(x)\n",
        "```"
      ],
      "metadata": {
        "id": "aZrJNQSaXtKu"
      }
    },
    {
      "cell_type": "markdown",
      "source": [
        "## Closing the File\n",
        "When you are finished with the file, you should close the file to release all of the resources associated with the file.\n",
        "\n",
        "```\n",
        "demotextfile.close()\n",
        "```"
      ],
      "metadata": {
        "id": "S141d89CX6Ab"
      }
    },
    {
      "cell_type": "markdown",
      "source": [
        "# Mounting Google Drive\n",
        "* Mount Google Drive in Google Colab. This allows you to access the files stored in your Drive account from within Colab. To mount your Drive account, run the following code:"
      ],
      "metadata": {
        "id": "qy75gRvMnXac"
      }
    },
    {
      "cell_type": "code",
      "source": [
        "from google.colab import drive\n",
        "drive.mount('/content/drive')"
      ],
      "metadata": {
        "colab": {
          "base_uri": "https://localhost:8080/"
        },
        "id": "yI-mHvs0geer",
        "outputId": "c59157ac-c0ae-4e63-fd38-5303c6781a54"
      },
      "execution_count": 2,
      "outputs": [
        {
          "output_type": "stream",
          "name": "stdout",
          "text": [
            "Mounted at /content/drive\n"
          ]
        }
      ]
    },
    {
      "cell_type": "markdown",
      "source": [
        "* This will prompt you to authenticate your Google account and grant permission to Colab to access your Drive files.\n",
        "* Follow the prompts, and once you’re authenticated, your Drive account will be mounted to the /content/drive directory in Colab.\n",
        "* Once your Drive account is mounted, you can access the files stored in it using the file path.\n",
        "\n"
      ],
      "metadata": {
        "id": "LKQxMPllnqK0"
      }
    },
    {
      "cell_type": "markdown",
      "source": [
        "## Putting It All together\n"
      ],
      "metadata": {
        "id": "CR_VqUd2YG4q"
      }
    },
    {
      "cell_type": "code",
      "source": [
        "# Open a file for reading\n",
        "fileName = \"/content/drive/MyDrive/IFSC4399_5399_Data_Fundamentals/DemoText.txt\"\n",
        "demotextfile = open(fileName, \"r\")\n",
        "\n",
        "# Read the entire contents of the file into a single string\n",
        "x = demotextfile.read()\n",
        "\n",
        "# Print the contents - Note the embedded linefeeds\n",
        "print(x)\n",
        "\n",
        "# Close the file\n",
        "demotextfile.close()"
      ],
      "metadata": {
        "id": "Ls-5qK8JYMJM"
      },
      "execution_count": null,
      "outputs": []
    },
    {
      "cell_type": "markdown",
      "source": [
        "# Read a File Line by Line\n",
        "* While the previous example read the entire contents of a file into a string, most often it is more advantageous to read the file line by line.\n"
      ],
      "metadata": {
        "id": "UU5leU3HoPVE"
      }
    },
    {
      "cell_type": "markdown",
      "source": [
        "## The open() statement\n",
        "* Before you can access a file, you must open it by name using the **open** statement.\n",
        "    * If you open \"DemoText.txt\", it is assumed that the file is in the root of the file system.\n",
        "    * If the file is in a folder, say \"IFSC5399\", then you would specify \"IFSC5399/DemoText.txt\".\n",
        "\n",
        "```\n",
        "demotextfile = open(\"DemoText.txt\")\n",
        "```"
      ],
      "metadata": {
        "id": "NKF3nQ7LoZza"
      }
    },
    {
      "cell_type": "markdown",
      "source": [
        "## The .readline() method\n",
        "* The **.readline()** method is used to read each line of the file deliniated by a linefeed.\n",
        "* A single line of data (including the linefeed) is placed in a string.\n",
        "\n",
        "```\n",
        "x = demotextfile.readline()\n",
        "```"
      ],
      "metadata": {
        "id": "ZXV18IYqpU0G"
      }
    },
    {
      "cell_type": "markdown",
      "source": [
        "## Checking for the End of File (EOF)\n",
        "* We have to know when we reached the end of the file.\n",
        "* Python indicates this when the string returned by the .readline() method is an empty string. We can use the while statement:\n",
        "```\n",
        "while x != \"\"\n",
        "```\n"
      ],
      "metadata": {
        "id": "UYvqjMk3RUsa"
      }
    },
    {
      "cell_type": "markdown",
      "source": [
        "## Displaying the Contents of a Line of Data\n",
        "* You can display the contents of the line of data by simply printing it.\n",
        "* Note: the extra blank line is created because there is a linefeed in the string AND the print statement automatically generates a new line.\n",
        "```\n",
        "print(x)\n",
        "```"
      ],
      "metadata": {
        "id": "pCQoIEaGRmqW"
      }
    },
    {
      "cell_type": "markdown",
      "source": [
        "## Closing the File\n",
        "When you are finished with the file, you should close the file to release all of the resources associated with the file.\n",
        "```\n",
        "demotextfile.close()\n",
        "```"
      ],
      "metadata": {
        "id": "PNgSbrZSR1AF"
      }
    },
    {
      "cell_type": "markdown",
      "source": [
        "## Putting it All together\n"
      ],
      "metadata": {
        "id": "AzxrAMkkSAL0"
      }
    },
    {
      "cell_type": "code",
      "source": [
        "# Open a file for reading\n",
        "fileName = \"/content/drive/MyDrive/IFSC4399_5399_Data_Fundamentals/DemoText.txt\"\n",
        "demotextfile = open(fileName, \"r\")\n",
        "\n",
        "# Read the first line of the file\n",
        "x = demotextfile.readline()\n",
        "\n",
        "# End of file is indicated when the input is empty\n",
        "while x != \"\":\n",
        "    # Print the contents - Note the embedded linefeeds\n",
        "    print(x)\n",
        "    # Read the next line of the file\n",
        "    x = demotextfile.readline() # Close the file\n",
        "\n",
        "demotextfile.close()"
      ],
      "metadata": {
        "id": "nQDkU0fUSEGt"
      },
      "execution_count": null,
      "outputs": []
    },
    {
      "cell_type": "markdown",
      "source": [
        "# Write to a File Line by Line\n",
        "Here are the steps to write to a file line by line:"
      ],
      "metadata": {
        "id": "pTFascjbStfT"
      }
    },
    {
      "cell_type": "markdown",
      "source": [
        "## The open() statement\n",
        "* Before you can access a file, you must open it by name using the **open()** method.\n",
        "* Note we will use the \"w\" attribute because we want to create a file and write to it:\n",
        "```\n",
        "newfile = open(\"OutputText.txt\", \"w\")\n",
        "```"
      ],
      "metadata": {
        "id": "FC4QMKd0SzFz"
      }
    },
    {
      "cell_type": "markdown",
      "source": [
        "## Preparing Your Output\n",
        "Normally, it is most efficient to write one entire line of data at at time, so you might want to concatenate your data into a single string.\n",
        "```\n",
        "output = \"The number is \" + str(i)\n",
        "```"
      ],
      "metadata": {
        "id": "bUoPXJqDTkGk"
      }
    },
    {
      "cell_type": "markdown",
      "source": [
        "## The .write() method\n",
        "* The **.write()** method is used to write the contents of a string to a file.\n",
        "* Note that if you are writing an entire line of data to the file, you will also have to append a linefeed character (\"\\n\") to indicate the end of the data.\n",
        "```\n",
        "demofile.write(output + \"\\n\")\n",
        "```"
      ],
      "metadata": {
        "id": "4RnqjRz3Tr92"
      }
    },
    {
      "cell_type": "markdown",
      "source": [
        "## Closing the File\n",
        "* When you are finished with the file, you should close the file to release all of the resources associated with the file.\n",
        "```\n",
        "demotextfile.close()\n",
        "```"
      ],
      "metadata": {
        "id": "Wu4i_qYFUFcj"
      }
    },
    {
      "cell_type": "markdown",
      "source": [
        "## Put it All together\n"
      ],
      "metadata": {
        "id": "qTsVIOitULPW"
      }
    },
    {
      "cell_type": "code",
      "source": [
        "# Open the file for writing\n",
        "newfile = open(\"/content/drive/MyDrive/IFSC4399_5399_Data_Fundamentals/OutputText.txt\", \"w\")\n",
        "\n",
        "# Output 10 numbers\n",
        "for i in range(1,11):\n",
        "# Note output does not contain a linefeed character,\n",
        "# so we will have to add a linefeed when we write it it.\n",
        "    output = \"The number is \" + str(i)\n",
        "    newfile.write(output + \"\\n\")\n",
        "    print(i)\n",
        "\n",
        "# Close the file\n",
        "newfile.close()\n",
        "print(\"File Created\")"
      ],
      "metadata": {
        "id": "N7ngXdXJUOeq"
      },
      "execution_count": null,
      "outputs": []
    },
    {
      "cell_type": "markdown",
      "source": [
        "#  Copy a File Line by Line\n",
        "* This program is an example of copying one file to another.\n",
        "* Note the following:\n",
        "    * The file names are string. You can use strings in your program or even prompt the user for the file name\n",
        "    * You will have to open the output file for writing\n",
        "    * When you read a line from the input file, the end of the string already has a linefeed it it. You don't have to append another linefeed when you write the to the output file\n",
        "    * Be sure to close all of your open files\n",
        "    "
      ],
      "metadata": {
        "id": "7IiOaGYAVFFL"
      }
    },
    {
      "cell_type": "code",
      "source": [
        "# The name of the file can be a string\n",
        "# Here you need to modify the file path corresponding to the file location at your google drive\n",
        "path = \"/content/drive/MyDrive/IFSC4399_5399_Data_Fundamentals/\"\n",
        "\n",
        "inputfilename = path + \"DemoText.txt\"\n",
        "outputfilename = path + \"NewDemoText.txt\"\n",
        "recordcount = 0\n",
        "\n",
        "# Open the input file for reading\n",
        "inputfile = open(inputfilename, 'r')\n",
        "\n",
        "# Open the output file for writing\n",
        "outputfile = open(outputfilename, 'w')\n",
        "\n",
        "# Read the first line of the input file\n",
        "line = inputfile.readline()\n",
        "\n",
        "# Read until the input is empty\n",
        "while line != '':\n",
        "# Write to the output file\n",
        "# Note that line already contains a linefeed character, so we don't have to add one when we write it.\n",
        "    outputfile.write(line)\n",
        "    recordcount += 1\n",
        "\n",
        "    # Read the next line of the input file\n",
        "    line = inputfile.readline()\n",
        "# End of File on input file\n",
        "\n",
        "# Close both files\n",
        "inputfile.close()\n",
        "outputfile.close()\n",
        "print(\"{} records written\".format(recordcount))"
      ],
      "metadata": {
        "id": "qjMrEZi1Vclp"
      },
      "execution_count": null,
      "outputs": []
    },
    {
      "cell_type": "markdown",
      "source": [
        "# Functions\n",
        "\n",
        "* Functions are the code sections which are isolated from the rest of the program and executed only when called.\n",
        "* You've already met such functions as sqrt() , len() and print().\n",
        "* They all have something in common:\n",
        "    * they take parameters (zero, one, or several of them), and they can return a value (or they can return nothing).\n",
        "    * For example, the function sqrt() accepts one parameter and returns a value (the square root of the given number).\n",
        "    * The print() function can take various number of arguments and returns nothing.\n",
        "* Now we want to show you how to write a function called *factorial(*) which takes a single parameter — the number, and returns a value — the factorial of that number. The **def** statement defines the name of the function and the name of values passed to it. The **return** returns the value calculated by the function."
      ],
      "metadata": {
        "id": "Gt5cc7ABWFWI"
      }
    },
    {
      "cell_type": "code",
      "source": [
        "def factorial(n):\n",
        "    res = 1\n",
        "    for i in range(1, n + 1):\n",
        "        res *= i\n",
        "    return res\n",
        "\n",
        "print(factorial(3))"
      ],
      "metadata": {
        "id": "2ZXz3FS8W_kg"
      },
      "execution_count": null,
      "outputs": []
    },
    {
      "cell_type": "markdown",
      "source": [
        "# How Does a Function Work - Part 1    \n",
        "* We want to provide a few explanations.\n",
        "* First, the function code should be placed in the beginning of the program (before the place where we want to use the function factorial(), to be precise).\n",
        "* The first line of this example is a description of our function; the word **factorial** is an identifier (the name of our function).\n",
        "* Right after the identifier, there goes the list of parameters that our function receives (in parentheses).\n",
        "    * The list consists of comma-separated identifiers of the parameters; in our case, there's only one parameter n.\n",
        "    * At the end of this line, put colon.\n",
        "* Then goes the function body.\n",
        "    * In Python, the body must be indented (by Tab or four spaces, as always).\n",
        "    * This function calculates the value of n! and stores it in the variable res (meaning \"result\").\n",
        "    * The last line of the function is\n",
        ", which exits the function and returns the value of the variable res.\n",
        "    * The **return** statement can appear in any place of a function. Its execution exits the function and returns specified value to the place where the function was called.\n",
        "    * If the function does not return a value, the return statement won't actually return some value (though it still can be used).\n",
        "    * Some functions do not need to return values, and the\n",
        "return statement can be omitted for them."
      ],
      "metadata": {
        "id": "zErp9pXdXUAP"
      }
    },
    {
      "cell_type": "markdown",
      "source": [
        "# How Does a Function Work - Part 2\n",
        "* Here's the function max() that accepts two numbers and returns the maximum of them.\n",
        "* Actually, this function has already become the part of Python syntax."
      ],
      "metadata": {
        "id": "tTtiXLsGYdxT"
      }
    },
    {
      "cell_type": "code",
      "source": [
        "def max(a, b):\n",
        "    if (a > b):\n",
        "        return a\n",
        "    else:\n",
        "        return b\n",
        "\n",
        "print(max(3,5))\n",
        "print(max(5,3))\n",
        "print(max(int(input(\"Enter First Number: \")), int(input(\"Enter Second Number: \"))))"
      ],
      "metadata": {
        "id": "JrJLRSp1YmH2"
      },
      "execution_count": null,
      "outputs": []
    },
    {
      "cell_type": "markdown",
      "source": [
        "# Global Variables I\n",
        "* Inside the function, you can use variables declared somewhere outside of it.\n",
        "* Here the variable a is set to a string, and the **function f()** prints this value, despite the fact that when we declare the **function f** this variable is not initialized.\n",
        "* The reason is, at the time of calling the **function f()** (the last string) the variable a already has a value.\n",
        "* That's why the function f() can display it.\n",
        "Such variables (declared outside the function but available inside the function) are called **global**."
      ],
      "metadata": {
        "id": "PZaiHiIeZY7D"
      }
    },
    {
      "cell_type": "code",
      "source": [
        "def f():\n",
        "    print(a)\n",
        "\n",
        "a = \"A is a global variable\"\n",
        "f()"
      ],
      "metadata": {
        "id": "JuMpIobmZ3v7"
      },
      "execution_count": null,
      "outputs": []
    },
    {
      "cell_type": "markdown",
      "source": [
        "# Global Variables II\n",
        "If you initialize some variable inside of the function, you won't be able to use this variable outside of it.\n",
        "\n"
      ],
      "metadata": {
        "id": "Fut_9CRjaBZe"
      }
    },
    {
      "cell_type": "code",
      "source": [
        "def f():\n",
        "    k = \"A is a local variable\"\n",
        "    return k\n",
        "\n",
        "b = f()\n",
        "print(k)\n",
        "#print(b)"
      ],
      "metadata": {
        "id": "DnQYrCx3aMk4"
      },
      "execution_count": null,
      "outputs": []
    },
    {
      "cell_type": "markdown",
      "source": [
        "* We receive error NameError: name k' is not defined.\n",
        "* Such variables declared within a function are called **local**.\n",
        "* They become unavailable after you exit the function.\n",
        "* To get to access to the variable 'k', you will have to return the value to the calling program.\n",
        "* To correct this problem, change **print(k)** to **print(b)**.\n"
      ],
      "metadata": {
        "id": "nT8UBJ3-a1jD"
      }
    },
    {
      "cell_type": "markdown",
      "source": [
        "# Functions Can Return More Than One Value\n",
        "* It is often useful for a function to return more than one value.\n",
        "* Here's the example of returning two or more values: **return a, b**"
      ],
      "metadata": {
        "id": "IfyY0oc3bKT7"
      }
    },
    {
      "cell_type": "code",
      "source": [
        "def addth(m,n):\n",
        "    # Add 'th' to end of word\n",
        "    return m + \"th\", n + \"th\"\n",
        "\n",
        "a = input(\"Enter First Word: \")\n",
        "b = input(\"Ender Second Word: \")\n",
        "x, y = addth(a, b)\n",
        "print(x)\n",
        "print(y)"
      ],
      "metadata": {
        "id": "zGMotPP1bdq7"
      },
      "execution_count": null,
      "outputs": []
    },
    {
      "cell_type": "markdown",
      "source": [
        "# Further Reading from the Think Python Book\n",
        "[Functions](https://greenteapress.com/thinkpython2/html/thinkpython2004.html)"
      ],
      "metadata": {
        "id": "MurUSIu6boC2"
      }
    },
    {
      "cell_type": "markdown",
      "source": [
        "# Ex 1: Circle\n",
        "* You have a file that has the radius of a circle, one per line.\n",
        "* Create a program that performs the following:\n",
        "    * Defines a function called \"diameter\"\n",
        "        * Accepts the radius (floating point) as a parameter\n",
        "        * Calculates and returns the diameter of the circle, (2 times radius)\n",
        "    * Defines a function called \"circumference\"\n",
        "        * Accepts the radius (floating point) as a parameter\n",
        "        * Calculates and returns the circumference of the circle, (2 times pi times radius)\n",
        "    * Defines a function called \"area\"\n",
        "        * Accepts the radius (floating point) as a parameter\n",
        "        * Calculates and returns the area of the circle, (pi times radius squared)\n",
        "    * Opens and reads the **Radius.txt** file\n",
        "    * Calculates and prints the radius, diameter, circumference, and area on a line. (each value is 15 columns wide, 5 decimal digits, and a space seperating each column.\n",
        "    * Print headings that right align with the data.\n",
        "\n",
        "Copy, paste and save the file below as **Radius.txt**.\n",
        "```            \n",
        "1.6\n",
        "2.93\n",
        "200.99\n",
        "1048.732\n",
        "```\n",
        "\n",
        "**Expected Output**\n",
        "\n",
        "```\n",
        "         Radius        Diameter   Circumference            Area\n",
        "        1.60000         3.20000        10.05310         8.04248\n",
        "        2.93000         5.86000        18.40973        26.97026\n",
        "      200.99000       401.98000      1262.85741    126910.85591\n",
        "     1048.73200      2097.46400      6589.37749   3455245.51879\n",
        "\n",
        "```"
      ],
      "metadata": {
        "id": "9jnSzeIjb2mm"
      }
    },
    {
      "cell_type": "markdown",
      "source": [
        "#Ex2: Stock\n",
        "* You have a file that has the stock prices for a week, one per line.\n",
        "* Create a program that performs the following:\n",
        "    * Defines a function called \"percentchange\"\n",
        "        * Accepts today stock price (floating point) and yesterdays stock price (floating point) as parameters\n",
        "        * Calculates and percent change between yesterdays and todays stockprice\n",
        "          * Percent Change is todays stock value - yesterdays stock value divided by yesterdays stock value time 100\n",
        "    * Opens and reads the first line of **Stock.txt** file\n",
        "    * Prints headings and the first stock value (there is no percent change on the first day)\n",
        "    * Reads the next line of input\n",
        "    * Calculates and prints the stock value and the percent change from yesterday. Each column is 10 characters wide with a space between them.\n",
        "\n",
        "Copy, paste and save the file below as **Stock.txt**\n",
        "\n",
        "```\n",
        "126.18\n",
        "125.60\n",
        "125.01\n",
        "127.74\n",
        "129.04\n",
        "```\n",
        "\n",
        "**Expected Output**\n",
        "```\n",
        " Price   Change\n",
        "126.18\n",
        "125.60     -0.46%\n",
        "125.01     -0.47%\n",
        "127.74      2.18%\n",
        "129.04      1.02%\n",
        "```"
      ],
      "metadata": {
        "id": "aqtdpiLUj2ee"
      }
    },
    {
      "cell_type": "markdown",
      "source": [
        "# Ex3: Temperatures\n",
        "* You have a file that has temperatures in Fahrenheit, one per line.\n",
        "* Create a program that performs the following:\n",
        "    * Defines a function called **FahrToCel**\n",
        "        * Accepts a Fahrenheit Temperature (floating point) as a parameter\n",
        "        * Calculates the temperature in Celsius - C = (F - 32) * 5 / 9\n",
        "    * Opens the file **FTemps.txt** file for reading\n",
        "    * Opens the file **CTemps.txt** file for writing\n",
        "    * Reads a line from the **FTemps.txt** file\n",
        "    * Calculates the Celsius temperature.\n",
        "    * Writes the Celsius temperature to the **CTemps.txt** file. The Celsius values should be 5 characters wide with 1 decimal digit.\n",
        "    * Prints the number of records processed\n",
        "\n",
        "Copy, paste and save the file below as **FTemps.txt**\n",
        "```        \n",
        "83.2\n",
        "75.7\n",
        "29.2\n",
        "-3\n",
        "```\n",
        "\n",
        "**Expected output**\n",
        "\n",
        "```\n",
        " 28.4\n",
        " 24.3\n",
        " -1.6\n",
        "-19.4\n",
        "```"
      ],
      "metadata": {
        "id": "0wgAY5-gvzqV"
      }
    },
    {
      "cell_type": "markdown",
      "source": [
        "# Ex4: Remove Empty Lines\n",
        "* You have a file that has text in it. Some of the lines are empty.\n",
        "* Create a program that performs the following:\n",
        "    * Opens the file **EmptyLinesInput.txt** file for reading\n",
        "    * Opens the file **EmptyLinesOutput.txt** file for writing\n",
        "    * Reads a line from the **EmptyLinesInput.txt** file\n",
        "        * If the line is not empty, write the line to **EmptyLinesOutput.txt**\n",
        "        * If the line is empty, do not write the line to **EmptyLinesOutput.txt**\n",
        "    * Print the number of line read and the number of lines written.\n",
        "\n",
        "Copy, paste and save the file below as **EmptyLinesInput.txt**\n",
        "\n",
        "```      \n",
        "The quick\n",
        "\n",
        "brown fox\n",
        "jumps\n",
        "\n",
        "over the lazy\n",
        "dog's\n",
        "back\n",
        "```"
      ],
      "metadata": {
        "id": "MvZXQw2PEIUb"
      }
    },
    {
      "cell_type": "markdown",
      "source": [
        "# Ex5: Compare Files\n",
        "* You have a two files. You want to compare them line by line and print the differences.\n",
        "* Create a program that performs the following:\n",
        "    * Opens the file **CompareFileA.txt** file for reading\n",
        "    * Opens the file ** CompareFileB.txt** file for reading\n",
        "    * Read a line from both files\n",
        "    * If the line from both files is not the same, print the line number and the contents of both lines\n",
        "    * Print the number of differences\n",
        "\n",
        "\n",
        "Copy, paste and save the file below as **CompareFileA.txt**\n",
        "```       \n",
        "The quick\n",
        "\n",
        "brown fox\n",
        "jumpsx\n",
        "\n",
        "over the lasy\n",
        "dog's\n",
        "back\n",
        "```\n",
        "\n",
        "Copy, paste and save the file below as **CompareFileB.txt**\n",
        "```\n",
        "The quick\n",
        "\n",
        "brown fox\n",
        "jumps\n",
        "\n",
        "over the lazy\n",
        "dog's\n",
        "back\n",
        "```\n",
        "\n",
        "**Expected Output**\n",
        "\n",
        "```\n",
        "Line: 4 - File A: jumpsx\n",
        "\n",
        "Line: 4 - File B: jumps\n",
        "\n",
        "Line: 6 - File A: over the lasy\n",
        "\n",
        "Line: 6 - File B: over the lazy\n",
        "\n",
        "2 differences\n",
        "````"
      ],
      "metadata": {
        "id": "EoQdNVywHU-n"
      }
    },
    {
      "cell_type": "code",
      "source": [
        "# Open the input file for reading\n",
        "# Change to your file path here\n",
        "path = \"/content/drive/MyDrive/IFSC4399_5399_Data_Fundamentals/\"\n",
        "inputfileA = open(path + \"CompareFileA.txt\")\n",
        "inputfileB = open(path + \"CompareFileB.txt\")\n",
        "\n",
        "lineA = inputfileA.readline()\n",
        "lineB = inputfileB.readline()\n",
        "\n",
        "lineNum = 0\n",
        "difference = 0\n",
        "while lineA != \"\" and lineB != \"\":\n",
        "    lineNum += 1\n",
        "    if lineA != lineB:\n",
        "        print(\"Line: {} - File A: {}\".format(lineNum, lineA ))\n",
        "        print(\"Line: {} - File B: {}\".format(lineNum, lineB ))\n",
        "        difference += 1 # increment difference count\n",
        "\n",
        "    lineA = inputfileA.readline()\n",
        "    lineB = inputfileB.readline()\n",
        "\n",
        "inputfileA.close()\n",
        "inputfileB.close()\n",
        "\n",
        "print(\"{} differences\".format(difference))"
      ],
      "metadata": {
        "colab": {
          "base_uri": "https://localhost:8080/"
        },
        "id": "xpE67sahIBTY",
        "outputId": "02068196-d289-4de0-cdd1-c179e2cfe32f"
      },
      "execution_count": null,
      "outputs": [
        {
          "output_type": "stream",
          "name": "stdout",
          "text": [
            "Line: 4 - File A: jumpsx\n",
            "\n",
            "Line: 4 - File B: jumps\n",
            "\n",
            "Line: 6 - File A: over the lasy\n",
            "\n",
            "Line: 6 - File B: over the lazy\n",
            "\n",
            "2 differences\n"
          ]
        }
      ]
    }
  ]
}