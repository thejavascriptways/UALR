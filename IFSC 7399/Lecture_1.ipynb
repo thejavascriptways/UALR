{
  "nbformat": 4,
  "nbformat_minor": 0,
  "metadata": {
    "colab": {
      "provenance": [],
      "toc_visible": true
    },
    "kernelspec": {
      "name": "python3",
      "display_name": "Python 3"
    },
    "language_info": {
      "name": "python"
    }
  },
  "cells": [
    {
      "cell_type": "markdown",
      "source": [
        "# Reference book\n",
        "[ Think Python](https://greenteapress.com/wp/think-python-2e/)\n",
        "\n"
      ],
      "metadata": {
        "id": "nB9c7YZ9wIRz"
      }
    },
    {
      "cell_type": "markdown",
      "source": [
        "# Google Colab\n",
        "* Google Colab is an excellent platform for developers to work on their machine learning projects in a collaborative environment\n",
        "* It provides a seamless experience to write, edit and execute code in Python with the help of Jupyter notebooks.\n",
        "\n",
        "# Create A Google Colab Notebook\n",
        "1. Log in to your Google account. If you don’t have a Google account, go to accounts.google.com and create an account\n",
        "2. Click the 9 dots icon on the upper-right corner and select **Drive**.\n",
        "3. Click **New -> More -> Google Colaboratory** to open a new Colab Notebook.\n",
        "4. Click the file name one the upper-left corner and change the file name.\n",
        "\n"
      ],
      "metadata": {
        "id": "gnjVb4IZAP1S"
      }
    },
    {
      "cell_type": "markdown",
      "source": [
        "# Save course files on Google Drive\n",
        "* From Google Drive, click the **New** button, then select **Folder** from the drop-down menu.\n",
        "* A dialog box will appear. Enter *IFSC4399/5399* for your folder, then click **Create**.\n",
        "* Your folder will appear on the left below My Drive. You may need to click the drop-down arrow to see your folders.\n",
        "* Download lecture .ipynb file from Blackboard. Click and drag the file to the *IFSC4399/5399* folder that you just created.\n"
      ],
      "metadata": {
        "id": "qcJCKJf7DOW_"
      }
    },
    {
      "cell_type": "markdown",
      "source": [
        "# What is Python\n",
        "Python is a popular programming language. It was released in 1991. It is used for:\n",
        "* Web Development (server-side)\n",
        "* Software Development\n",
        "* Mathematics\n",
        "* System Scripting"
      ],
      "metadata": {
        "id": "sJi7Yq63yXkd"
      }
    },
    {
      "cell_type": "markdown",
      "source": [
        "# What can Python do?\n",
        "* Python can be used on a server to create web applications.\n",
        "*  Python can be used alongside software to create workflows.\n",
        "* Python can connect to database systems. It can also read and modify files.\n",
        "* Python can be used to handle big data and perform complex mathematics.\n",
        "* Python can be used for rapid prototyping, or for production-ready software development.\n"
      ],
      "metadata": {
        "id": "naloVwGHzHfa"
      }
    },
    {
      "cell_type": "markdown",
      "source": [
        "# Why Python?\n",
        "* Python works on different platforms (Windows, Mac, Linux, Raspberry Pi, etc).\n",
        "* Python has a simple syntax similar to the English language.\n",
        "* Python has syntax that allows developers to write programs with fewer lines than some other programming languages.\n",
        "* Python runs on an interpreter system, meaning that code can be executed as soon as it is written. This means that prototyping can be very quick.\n"
      ],
      "metadata": {
        "id": "XmdMuOorzXt5"
      }
    },
    {
      "cell_type": "markdown",
      "source": [
        "# Good to Know\n",
        "* The most recent major version of Python is Python 3, which we shall be using in this course. However, Python 2, although not being updated with anything other than security updates, is still quite popular.\n",
        "* If you wish, you can download Python for free and install it on your computer. See [Python.org](https://www.python.org/)."
      ],
      "metadata": {
        "id": "Kdg3oZxkzzT1"
      }
    },
    {
      "cell_type": "markdown",
      "source": [
        "# Python Syntax Compared to Other Programming Languages\n",
        "* Python was designed for readability, and has some similarities to the English language with influence from mathematics.\n",
        "* Python uses new lines to complete a command, as opposed to other programming languages which often use semicolons or parentheses.\n",
        "* Python relies on indentation, using whitespace, to define scope; such as the scope of loops, functions and classes. Other programming languages often use curly-brackets for this purpose.\n"
      ],
      "metadata": {
        "id": "5q92yW9m07Pq"
      }
    },
    {
      "cell_type": "code",
      "source": [
        "print(\"Hello World\")"
      ],
      "metadata": {
        "id": "rWjIhVXl3IQ1"
      },
      "execution_count": null,
      "outputs": []
    },
    {
      "cell_type": "markdown",
      "source": [
        "# Python Comments\n",
        "Comments can be used to:\n",
        "* Explain Python code.\n",
        "* Make the code more readable.\n",
        "* Prevent execution when testing code.\n",
        "\n",
        "Comments start with a #, and Python ignores everything after it\n"
      ],
      "metadata": {
        "id": "M1J0Z8lI3eWw"
      }
    },
    {
      "cell_type": "code",
      "source": [
        "#This is a comment\n",
        "print(\"Hello, World\")\n",
        "\n",
        "#You can have a comment after a line of code\n",
        "print(\"Hello, World\") #This is a comment\n",
        "\n",
        "#You can \"comment out\" a line of code to prevent it from executing\n",
        "#print(\"Good Morning\")\n",
        "print(\"Hello, World\")"
      ],
      "metadata": {
        "id": "Z4fY2Csk38Bx"
      },
      "execution_count": null,
      "outputs": []
    },
    {
      "cell_type": "markdown",
      "source": [
        "# Python Variables\n",
        "* Variables are containers for storing data values.\n",
        "* Unlike other programming languages, Python has no command for declaring a variable.\n",
        "* A variable is created the moment you first assign a value to it.\n",
        "* String variables can be declared either by using single or double quotes\n",
        "\n",
        "## Variable Names\n",
        "* A variable can have a short name (like x and y) or a more descriptive name (age, carname, total_volume). Rules for Python variables:\n",
        "* A variable name must start with a letter or the underscore character\n",
        "* A variable name cannot start with a number. A variable name can only contain alpha-numeric characters and underscores (A-z, 0-9, and _ )\n",
        "* Variable names are case-sensitive (age, Age and AGE are three different variables)\n",
        "\n"
      ],
      "metadata": {
        "id": "N5vooaEd7EMX"
      }
    },
    {
      "cell_type": "code",
      "source": [
        "# A variable is created the moment you first assign a value to it.\n",
        "x = 5\n",
        "y = \"John\"\n",
        "\n",
        "print(x)\n",
        "print(y)\n",
        "\n",
        "# Variables do not need to be declared with any particular type and\n",
        "# can even change type after they have been set.\n",
        "x = 4       # x is of type integer\n",
        "print(x)\n",
        "\n",
        "x = \"Sally\" # x is now of type string\n",
        "print(x)\n",
        "\n",
        "# String variables can be declared either by\n",
        "# using single or double quotes:\n",
        "x = \"John\"\n",
        "print(x)\n",
        "# is the same as\n",
        "x = 'John'\n",
        "print(x)\n",
        "\n",
        "# Python allows you to assign values to multiple variables in one line:\n",
        "x, y, z = \"Orange\", \"Banana\", \"Cherry\"\n",
        "print(x)\n",
        "print(y)\n",
        "print(z)\n",
        "\n",
        "# And you can assign the same value to multiple variables in one line:\n",
        "x = y = z = \"Orange\"\n",
        "print(x)\n",
        "print(y)\n",
        "print(z)\n"
      ],
      "metadata": {
        "id": "ObkAw9LsvWNd"
      },
      "execution_count": null,
      "outputs": []
    },
    {
      "cell_type": "markdown",
      "source": [
        "# Python Numbers\n",
        "There are two numeric types in Python:\n",
        "* Integer - a whole number, positive or negative, without decimals, of unlimited length.\n",
        "* Float - a number, positive or negative, containing a decimal.\n",
        "\n",
        "You can verify the type of object in Python by using the **type()** function\n"
      ],
      "metadata": {
        "id": "65t7DGU-7QqG"
      }
    },
    {
      "cell_type": "code",
      "source": [
        "x = 1 #x is type integer\n",
        "print(x)\n",
        "print(type(x))\n",
        "\n",
        "y=2.8 #y is type float\n",
        "print (y)\n",
        "print (type(y))\n",
        "\n",
        "# Integer is a whole number, positive or negative,\n",
        "# without decimals, of unlimited length.\n",
        "x = 1\n",
        "y = 35656222554887711\n",
        "z = -3255522\n",
        "print(x)\n",
        "print(type(x))\n",
        "print(y)\n",
        "print(type(y))\n",
        "print(z)\n",
        "print(type(z))\n",
        "\n",
        "# Float in number, positive or negative, containing a decimal.\n",
        "x = 1.10\n",
        "y = 1.0\n",
        "z = -35.59\n",
        "print(x)\n",
        "print(type(x))\n",
        "print(y)\n",
        "print(type(y))\n",
        "print(z)\n",
        "print(type(z))\n",
        "\n",
        "# Float can also be scientific numbers with an \"e\"\n",
        "# to indicate the power of 10.\n",
        "x = 35e3\n",
        "y = 12E4\n",
        "z = -87.7e100\n",
        "print(x)\n",
        "print(type(x))\n",
        "print(y)\n",
        "print(type(y))\n",
        "print(z)\n",
        "print(type(z))"
      ],
      "metadata": {
        "id": "l66Du-e7v4BP"
      },
      "execution_count": null,
      "outputs": []
    },
    {
      "cell_type": "markdown",
      "source": [
        "# Python Casting\n",
        "There may be times that you want to convert from one type to another. Casting in python is therefore done using the following functions:\n",
        "\n",
        "* int() - constructs an integer number from an integer literal, a float literal (by rounding down to the previous whole number), or a string literal (providing the string represents a whole number)\n",
        "* float() - constructs a float number from an integer literal, a float literal or a string literal (providing the string represents a float or an integer)\n",
        "* str() - constructs a string from a wide variety of data types, including strings, integer literals and float literals\n",
        "       \n",
        "## Runtime Errors\n",
        "Sometime your code can create a situation that Python can't handle. For instance, in Line 19, strval2 has a value of -7.8, which is not a whole number (floating numbers have the decimal portion rounded down, but strings must be a whole number).\n",
        "\n",
        "Remove the comment charachter from line 19 and you will see the error:\n",
        "\n",
        "ValueError                                Traceback (most recent call last)<br>\n",
        "<ipython-input-5-d60e0eeb2af6> in <cell line: 19>()\n",
        "     17 print (int(floatval3))<br>\n",
        "     18 print (int(strval1))<br>\n",
        "---> 19 print (int(strval2))<br>\n",
        "     20 #print (int(strval3))<br>\n",
        "\n",
        "ValueError: invalid literal for int() with base 10: '-7.8'<br>\n",
        "\n",
        "* Python is telling you that there is an error in Line 20 and that -7,8 is an invalid literal for the int() function.\n"
      ],
      "metadata": {
        "id": "aOE2YOdNwgQv"
      }
    },
    {
      "cell_type": "markdown",
      "source": [],
      "metadata": {
        "id": "LkPDnTXp1dc3"
      }
    },
    {
      "cell_type": "code",
      "source": [
        "intval1 = 7\n",
        "intval2 = -3\n",
        "intval3 = 0\n",
        "floatval1 = 2.8\n",
        "floatval2 = -4.6\n",
        "floatval3 = 5.0\n",
        "strval1 = \"6\"\n",
        "strval2 = \"-7.8\"\n",
        "strval3 = \"5a\"\n",
        "\n",
        "\n",
        "print (int(intval1))\n",
        "print (int(intval2))\n",
        "print (int(intval3))\n",
        "print (int(floatval1)) # Note that 2.8 becomes 2\n",
        "print (int(floatval2)) # Note that -4.6 becomes -4\n",
        "print (int(floatval3))\n",
        "print (int(strval1))\n",
        "#print (int(strval2)) # Note you will get an error here\n",
        "#print (int(strval3)) # Note you will get an error here\n",
        "\n",
        "print (float(intval1))\n",
        "print (float(intval2))\n",
        "print (float(intval3))\n",
        "print (float(floatval1))\n",
        "print (float(floatval2))\n",
        "print (float(floatval3))\n",
        "print (float(strval1))\n",
        "print (float(strval2))\n",
        "#print (float(strval3)). # Note you will get an error here\n",
        "\n",
        "print (str(intval1))\n",
        "print (str(intval2))\n",
        "print (str(intval3))\n",
        "print (str(floatval1))\n",
        "print (str(floatval2))\n",
        "print (str(floatval3))\n",
        "print (str(strval1))\n",
        "print (str(strval2))\n",
        "print (str(strval3))               # No error here"
      ],
      "metadata": {
        "id": "YRWAYo6kxCFO"
      },
      "execution_count": null,
      "outputs": []
    },
    {
      "cell_type": "markdown",
      "source": [
        "# Python Strings\n",
        "String literals in python are surrounded by either single quotation marks, or double quotation marks. 'hello' is the same as \"hello\".\n",
        "* You can print a blank line be entering print(\"\")\n",
        "* You can assign a multiline string to a variable by using three quotes. Note that this preserves the linefeeds in the string. If you don't want the linefeeds, you will have to put the string in one line.\n",
        "* You can concatenate strings using the + sign"
      ],
      "metadata": {
        "id": "oMnjU6dZ1gvM"
      }
    },
    {
      "cell_type": "code",
      "source": [
        "# String literals are surrounded by either single quotation marks,\n",
        "# or double quotation marks.\n",
        "print(\"Hello\")\n",
        "print('Hello')\n",
        "\n",
        "# Blank Line\n",
        "print(\"\")\n",
        "\n",
        "# Example of a multiline string\n",
        "a = \"\"\"Lorem ipsum dolor sit amet,\n",
        "consectetur adipiscing elit,\n",
        "sed do eiusmod tempor incididunt\n",
        "ut labore et dolore magna aliqua.\"\"\"\n",
        "print(a)\n",
        "\n",
        "# Blank Line\n",
        "print(\"\")\n",
        "\n",
        "# Concatenating strings\n",
        "a = \"Hello\"\n",
        "b = \"Dolly\"\n",
        "c = a + \" \" + b + \"!\"\n",
        "print(c)"
      ],
      "metadata": {
        "id": "hIWyADH33wsx"
      },
      "execution_count": null,
      "outputs": []
    },
    {
      "cell_type": "markdown",
      "source": [
        "# Python Arithmetic Operators\n",
        "      \n",
        "   \n",
        "Arithmetic operators are used with numeric values to perform common mathematical operations\n",
        "\n",
        "Operator  | Name                        |Example\n",
        "-------------------|------------------  |--------------\n",
        "+       | Addition       | x + y\n",
        "-      | Subtraction       | x - y\n",
        "*      | Multiplication       | x * y\n",
        "/      | Division       | x / y\n",
        "%       | Modulus       | x % y\n",
        "**     | Exponentiation       | x ** y\n",
        "//      | Floor Division       | x // y"
      ],
      "metadata": {
        "id": "cKUqj0Yp4dF_"
      }
    },
    {
      "cell_type": "code",
      "source": [
        "x = 11\n",
        "y = 4\n",
        "\n",
        "print (x + y)\n",
        "print (x - y)\n",
        "print (x * y)\n",
        "print (x / y)\n",
        "print (x % y)\n",
        "print (x ** y)\n",
        "print (x // y)"
      ],
      "metadata": {
        "id": "_XAdJC0p7alm",
        "colab": {
          "base_uri": "https://localhost:8080/"
        },
        "outputId": "d65102d4-b82a-4bf6-cecb-1081ca8c5b6f"
      },
      "execution_count": null,
      "outputs": [
        {
          "output_type": "stream",
          "name": "stdout",
          "text": [
            "15\n",
            "7\n",
            "44\n",
            "2.75\n",
            "3\n",
            "14641\n",
            "2\n"
          ]
        }
      ]
    },
    {
      "cell_type": "markdown",
      "source": [
        "# Python Assignment Operators\n",
        "Assignment Operators are used to assign values to variables\n",
        "\n",
        "Operator  | Name                        |Example|Same as\n",
        "-------------------|------------------  |-------|------\n",
        "=       | Assignment       | x = 5      | x = 5\n",
        "+=      | Addition       | x += 5      | x = x + 5\n",
        "-=      | Subtraction       | x -= 5    |. x = x - 5\n",
        "*=      | Multiplication     | x *= 5 |. x = x * 5\n",
        "/=       | Division       | x /= 5      | x = x / 5\n",
        "%=      | Modulus       | x %= 5       | x = x % 5\n",
        "//=      | Remainder       | x //= 5    |. x = x // 5\n",
        "**=      | Exponentiation       | x ** = 5 | x = x ** 5"
      ],
      "metadata": {
        "id": "KRQVfAN38LSj"
      }
    },
    {
      "cell_type": "code",
      "source": [
        "x = 7\n",
        "print(x)\n",
        "\n",
        "x=7\n",
        "x += 5\n",
        "print(x)\n",
        "\n",
        "x=7\n",
        "x -= 5\n",
        "print(x)\n",
        "\n",
        "x=7\n",
        "x *= 5\n",
        "print(x)\n",
        "\n",
        "x=7\n",
        "x /= 5\n",
        "print(x)\n",
        "\n",
        "x=7\n",
        "x %= 5\n",
        "print(x)\n",
        "\n",
        "x=7\n",
        "x //= 5\n",
        "print(x)\n",
        "\n",
        "x=7\n",
        "x **= 5\n",
        "print(x)"
      ],
      "metadata": {
        "id": "xpVzOSXhJL44"
      },
      "execution_count": null,
      "outputs": []
    },
    {
      "cell_type": "markdown",
      "source": [
        "# Inputting Data\n",
        "* You can use the input() statement to prompt the user for input. When an input() statement is executed, you can type your input and press the ENTER key.\n",
        "  \n",
        "* You should add a prompt in your input statement, as in input(\"Enter Your Name\"). This will display the prompt so you know that Python is waiting for input.\n",
        "* If you don't enter any data and press the ENTER key, Python will return an empty string, or \"\""
      ],
      "metadata": {
        "id": "DWtZc1O7Jt92"
      }
    },
    {
      "cell_type": "code",
      "source": [
        "firstname = input()  # Input statement without a prompt\n",
        "print(\"You Entered: \" + firstname)\n",
        "\n",
        "lastname = input(\"Enter Your Name:\")  # Input statement with a prompt\n",
        "print(\"You Entered: \" + lastname)"
      ],
      "metadata": {
        "id": "AcylXohBJ6Nr",
        "colab": {
          "base_uri": "https://localhost:8080/"
        },
        "outputId": "6f98e43f-49e2-458d-d093-c818ab39abdb"
      },
      "execution_count": null,
      "outputs": [
        {
          "output_type": "stream",
          "name": "stdout",
          "text": [
            "Mary Yang\n",
            "You Entered: Mary Yang\n",
            "Enter Your Name:\n",
            "You Entered: \n"
          ]
        }
      ]
    },
    {
      "cell_type": "markdown",
      "source": [
        "# Further Reading from the Think Python Book\n",
        "* [What is a program?](https://greenteapress.com/thinkpython2/html/thinkpython2002.html)\n",
        "* [The way of the program](https://greenteapress.com/thinkpython2/html/thinkpython2002.html)\n",
        "* [Running Python](https://greenteapress.com/thinkpython2/html/thinkpython2002.html#sec7)\n",
        "* [The first program](https://greenteapress.com/thinkpython2/html/thinkpython2002.html#sec8)\n",
        "* [Arithmetic operators](https://greenteapress.com/thinkpython2/html/thinkpython2002.html#sec9)\n",
        "* [Values and types](https://greenteapress.com/thinkpython2/html/thinkpython2002.html#sec10)\n",
        "* [Formal and natural languages Debugging](https://greenteapress.com/thinkpython2/html/thinkpython2002.html#sec11)\n",
        "* [Glossary](https://greenteapress.com/thinkpython2/html/thinkpython2002.html#sec13)\n",
        "* [Exercises](https://greenteapress.com/thinkpython2/html/thinkpython2002.html#sec14)"
      ],
      "metadata": {
        "id": "jNwtHYJaKT7N"
      }
    },
    {
      "cell_type": "markdown",
      "source": [
        "# Ex1: Sum of Three Numbers\n",
        "\n",
        "* Write a program that takes the prompts for three integer numbers and prints their sum.\n",
        "\n",
        "First Number: 2 <br>\n",
        "Second Number: 3 <br>\n",
        "Third Number: 4 <br>\n",
        "9\n",
        "\n",
        "First Number: -5 <br>\n",
        "Second Number: 180 <br>\n",
        "Third Number: 17 <br>\n",
        "192\n",
        "\n",
        "First Number: 2 <br>\n",
        "Second Number: 0 <br>\n",
        "Third Number: -6 <br>\n",
        "-4\n"
      ],
      "metadata": {
        "id": "Q3MlYv9NNb8J"
      }
    },
    {
      "cell_type": "markdown",
      "source": [
        "# Ex2 Hello\n",
        "* Write a program that displays the prompt \"First Name:\" and prints the word \"Hello\" followed by the name of the person.\n",
        "\n",
        "First Name: Joe <br>\n",
        "Hello Joe\n",
        "\n",
        "First Name: Jane <br>\n",
        "Hello Jane\n",
        "\n",
        "First Name: World <br>\n",
        "Hello World\n"
      ],
      "metadata": {
        "id": "kUCXQJX4OLES"
      }
    },
    {
      "cell_type": "markdown",
      "source": [
        "# Ex3: Square\n",
        "* Write a program that prompts for a number (either integer for float), and prints the square of the number.\n",
        "\n",
        "Enter Number: 5 <br>\n",
        "25.0\n",
        "\n",
        "Enter Number: 7 <br>\n",
        "49.0\n",
        "\n",
        "Enter Number: 5.5 <br>\n",
        "30.25"
      ],
      "metadata": {
        "id": "DQRx04pL0wX2"
      }
    },
    {
      "cell_type": "markdown",
      "source": [
        "# Ex4: Apple Sharing\n",
        "* Assume N students take K apples from a basket and distribute them among each other evenly. The remaining (the undivisible) apples remains in the basket. Write a program that\n",
        "    * Prompt for the number of students and apples.\n",
        "    * Calculate how many apples will each single student get?\n",
        "    * Calculate how many apples will remain in the basket?\n",
        "\n",
        "\n",
        "\n",
        "  Number of Students: 6 <br>\n",
        "  Number of Apples: 50 <br>\n",
        "  8 <br>\n",
        "  2\n",
        "\n",
        "  Number of Students: 5 <br>\n",
        "  Number of Apples: 25 <br>\n",
        "  5 <br>\n",
        "  0\n",
        "\n",
        "  Number of Students: 1 <br>\n",
        "  Number of Apples: 10 <br>\n",
        "  10 <br>\n",
        "  0   "
      ],
      "metadata": {
        "id": "tYBsvZv61C51"
      }
    },
    {
      "cell_type": "markdown",
      "source": [
        "# Ex5: Previous and Next\n",
        "* Write a program that prompts for an integer number and prints its previous and next numbers.\n",
        "* Display the results exactly as shown below. There shouldn't be a space before the period.\n",
        "* Remember that you can convert the numbers to strings using the function 'str'.\n",
        "\n",
        "Enter Number: 179 <br>\n",
        "The next number for the number 179 is 180 <br>\n",
        "The previous number for the number 179 is 178 <br>\n",
        "\n",
        "Enter Number: -5 <br>\n",
        "The next number for the number -5 is -4 <br>\n",
        "The previous number for the number -5 is -6\n",
        "\n",
        "Enter Number: 0 <br>\n",
        "The next number for the number 0 is 1 <br>\n",
        "The previous number for the number 0 is -1"
      ],
      "metadata": {
        "id": "wX7GX_5r5HUN"
      }
    },
    {
      "cell_type": "markdown",
      "source": [
        "# Ex6: Two Timestamps\n",
        "\n",
        "* A timestamp consists of three numbers:\n",
        "    1. number of hours\n",
        "    2. number of minutes\n",
        "    3. number of seconds\n",
        "* Given two timestamps, calculate how many seconds are between them.\n",
        "* Assume that the moment of the first timestamp occurred before the moment of the second timestamp.\n",
        "\n",
        "First Timestamp  <br>\n",
        "Enter Hours: 6  <br>\n",
        "Enter Minutes: 1  <br>\n",
        "Enter Seconds: 30  <br>\n",
        "Second Timestamp   <br>\n",
        "Enter Hours: 6  <br>\n",
        "Enter Minutes: 2  <br>\n",
        "Enter Seconds: 10  <br>\n",
        "40 <br>\n",
        "\n",
        "First Timestamp  <br>\n",
        "Enter Hours: 2  <br>\n",
        "Enter Minutes: 3Enter Seconds: 4  <br>\n",
        "Second Timestamp  <br>\n",
        "Enter Hours: 4  <br>\n",
        "Enter Minutes: 7  <br>\n",
        "Enter Seconds: 28  <br>\n",
        "7464"
      ],
      "metadata": {
        "id": "gjM0cHdq57fC"
      }
    },
    {
      "cell_type": "markdown",
      "source": [
        "# Ex7: School Desks\n",
        "* A school decided to replace the desks in three classrooms. Each desk seats two students.\n",
        "* Given the number of students in each class, determine the smallest possible number of desks that can be purchased.\n",
        "* The program should:\n",
        "    * Read three integers: the number of students in each of the three classerooms A, B and C respectively.\n",
        "    * Use floor division to find the number of desk that has two students and use modulus to find the number of desks that have one student.\n",
        "    * Add the number of desks needed for each classroom and print the total.\n",
        "* **Example:** <br>\n",
        "    * Classroom A has 20 students and thus needs 10 desks.\n",
        "    * Classroom B has 21 students, so they can get by with no fewer than 11 desks.\n",
        "    * Classroom C has 22 and also needs 11 desks\n",
        "    * 32 desks in total (10 + 11 + 11)\n",
        "  \n",
        "Enter Classroom A: 20 <br>\n",
        "Enter Classroom B: 2 <br>\n",
        "Enter Classroom C: 20 <br>\n",
        "31 <br>\n",
        "\n",
        "\n",
        "Enter Classroom A: 20 <br>\n",
        "Enter Classroom B: 21 <br>\n",
        "Enter Classroom C: 22 <br>\n",
        "32 <br>\n",
        "\n",
        "Enter Classroom A: 21 <br>\n",
        "Enter Classroom B: 22 <br>\n",
        "Enter Classroom C: 23 <br>\n",
        "34\n",
        "\n"
      ],
      "metadata": {
        "id": "rUqgDvrq649Q"
      }
    },
    {
      "cell_type": "markdown",
      "source": [
        "# Ex8: Number of Seconds\n",
        "* Write a program that prompts for the number of minutes and number of seconds.\n",
        "* Display the total number of seconds.\n",
        "\n",
        "\n",
        "Enter Minutes: 38 <br>\n",
        "Enter Seconds: 11 <br>\n",
        "2291 <br>\n",
        "\n",
        "\n",
        "Enter Minutes: 60 <br>\n",
        "Enter Seconds: 0 <br>\n",
        "3600 <br>\n",
        "\n",
        "\n",
        "Enter Minutes: 0 <br>\n",
        "Enter Seconds: 48 <br>\n",
        "48\n"
      ],
      "metadata": {
        "id": "uTVIKHFF8PiE"
      }
    },
    {
      "cell_type": "markdown",
      "source": [
        "# Ex9:  Miles In a Kilometer\n",
        "* Write a program that prompts for the number of kilometers.\n",
        "* Calculate and display the number of miles in the kilometers.\n",
        "* **Hint**: Use the float() function to convert your input to an floating number.\n",
        "* **Hint**: There are 1.61 kilometers in a mile.\n",
        "\n",
        "\n",
        "Enter Kilometers: 5 <br>\n",
        "3.105590062111801  <br>\n",
        "\n",
        "Enter Kilometers: 0 <br>\n",
        "0.0  <br>\n",
        "\n",
        "Enter Kilometers: 22.5  <br>\n",
        "13.975155279503104 <br>"
      ],
      "metadata": {
        "id": "hpdhqA3S8pU_"
      }
    },
    {
      "cell_type": "markdown",
      "source": [
        "# Ex10: Average Speed\n",
        "* Write a program that prompts for the lenght of a race in kilometers, the prompts for the number of minutes and number of seconds needed to run the race.\n",
        "* Display the average speed in **Miles per Hour**\n",
        "* **Hint**: Use the int() function to convert your input to an integer.\n",
        "* **Hint**: There are 1.61 kilometers in a mile.\n",
        "\n",
        "\n",
        "Enter Length of Race in Kilometers: 10 <br>\n",
        "Enter Minutes: 61 <br>\n",
        "Enter Seconds: 33 <br>\n",
        "6.054765352614396 <br>\n",
        "\n",
        "\n",
        "Enter Length of Race in Kilometers: 10 <br>\n",
        "Enter Minutes: 54 <br>\n",
        "Enter Seconds: 38 <br>\n",
        "6.821308251130252 <br>\n",
        "  \n",
        "  \n",
        "Enter Length of Race in Kilometers: 5 <br>\n",
        "Enter Minutes: 28 <br>\n",
        "Enter Seconds: 7 <br>\n",
        "6.627222420629805"
      ],
      "metadata": {
        "id": "iE7pRFWj9NdE"
      }
    }
  ]
}