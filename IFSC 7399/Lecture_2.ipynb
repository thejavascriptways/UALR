{
 "cells": [
  {
   "cell_type": "markdown",
   "metadata": {
    "id": "o4bUcFxB4aQP"
   },
   "source": [
    "# Overview of Integers and Numbers\n",
    "We already know the following operators which may be applied to numbers: +, -, * and \\*\\*. The division operator / for integers gives a floating-point real number (an object of type float). The exponentiation ** also returns a float when the power is negative:"
   ]
  },
  {
   "cell_type": "code",
   "execution_count": 1,
   "metadata": {
    "colab": {
     "base_uri": "https://localhost:8080/"
    },
    "id": "9u0uOzta5qMf",
    "outputId": "66b7060c-8b5c-4f1c-a50c-c5810e62e849"
   },
   "outputs": [
    {
     "name": "stdout",
     "output_type": "stream",
     "text": [
      "5.666666666666667\n",
      "16\n",
      "0.25\n"
     ]
    }
   ],
   "source": [
    "print(17 / 3) # gives 5.66666666667\n",
    "print(2 ** 4)  # gives 16\n",
    "print(2 ** -2) # gives 0.25"
   ]
  },
  {
   "cell_type": "markdown",
   "metadata": {
    "id": "3dtszai18fM-"
   },
   "source": [
    "* There's a special operation for integer division where the remainder is discarded: //.\n",
    "* The operation that yields a remainder of such a division looks like %. Both operation always yield an object of type int."
   ]
  },
  {
   "cell_type": "code",
   "execution_count": 2,
   "metadata": {
    "colab": {
     "base_uri": "https://localhost:8080/"
    },
    "id": "57l_RGI08szV",
    "outputId": "9c2ea530-4af0-4187-af62-8394bb2fb0bb"
   },
   "outputs": [
    {
     "name": "stdout",
     "output_type": "stream",
     "text": [
      "5.666666666666667\n",
      "5\n",
      "2\n"
     ]
    }
   ],
   "source": [
    "print(17 / 3)  # gives 5.66666666667\n",
    "print(17 // 3) # gives 5\n",
    "print(17 % 3) # gives 2"
   ]
  },
  {
   "cell_type": "markdown",
   "metadata": {
    "id": "fIyaKLwp843o"
   },
   "source": [
    "* The **int()** function drops the decimal portion of a floating point number without rounding:"
   ]
  },
  {
   "cell_type": "code",
   "execution_count": null,
   "metadata": {
    "id": "S8MAnoYX9DRn"
   },
   "outputs": [],
   "source": [
    "print(int(1.3))   # gives 1\n",
    "print(int(1.7))   # gives 1\n",
    "print(int(-1.3))  # gives -1\n",
    "print(int(-1.7))  # gives -1"
   ]
  },
  {
   "cell_type": "markdown",
   "metadata": {
    "id": "zMN2ypaS9Ufp"
   },
   "source": [
    "* There's also a function **round()** that performs the usual rounding:"
   ]
  },
  {
   "cell_type": "code",
   "execution_count": null,
   "metadata": {
    "id": "JNYaulzD9d5i"
   },
   "outputs": [],
   "source": [
    "print(round(1.3)) # gives 1\n",
    "print(round(1.7)) # gives 2\n",
    "print(round(-1.3)) # gives -1\n",
    "print(round(-1.7)) # gives -2"
   ]
  },
  {
   "cell_type": "markdown",
   "metadata": {
    "id": "9OGSMnvj9kSQ"
   },
   "source": [
    "* You can also specify the number of decimal digits to round to in the **round()** function:"
   ]
  },
  {
   "cell_type": "code",
   "execution_count": null,
   "metadata": {
    "id": "BQ5xSzdD9uKE"
   },
   "outputs": [],
   "source": [
    "print(round(3.14159,2)) # gives 3.14\n",
    "print(round(3.14159,3))  # gives 3.142\n",
    "print(round(3.14159,4)) # gives 3.1416"
   ]
  },
  {
   "cell_type": "markdown",
   "metadata": {
    "id": "Dh7QqRhdEzcC"
   },
   "source": [
    "# Integer Arithmetic\n",
    "We already know the following operations which may be applied to numbers: +, -, * and **.\n",
    "* Division / always gives you a float.\n",
    "* Exponentiation ** also returns a float when the power is negative."
   ]
  },
  {
   "cell_type": "code",
   "execution_count": 6,
   "metadata": {
    "colab": {
     "base_uri": "https://localhost:8080/"
    },
    "id": "YCwbD-QMF11J",
    "outputId": "77dc791e-a83c-42b5-8a33-ff4ea3a53210"
   },
   "outputs": [
    {
     "name": "stdout",
     "output_type": "stream",
     "text": [
      "5.666666666666667\n",
      "5.0\n",
      "16\n",
      "0.125\n"
     ]
    }
   ],
   "source": [
    "print(17 / 3)\n",
    "print(20 / 4)\n",
    "print(2 ** 4)\n",
    "print(2 ** -3)"
   ]
  },
  {
   "cell_type": "markdown",
   "metadata": {
    "id": "CuEK4ss7hBLL"
   },
   "source": [
    "# Integer Division\n",
    "* Division of an integer by another integer will always yield a floating, even if it is evenly divisible.\n",
    "* The remainder operator, %, yields an integer that is the remainder after integer division.\n",
    "The floor division operator, //, yield an integer that is portion of the division where the remainder is discarded.\n",
    "* Remember that division by zero is undefined. Python will give you an error and your program will stop."
   ]
  },
  {
   "cell_type": "code",
   "execution_count": 7,
   "metadata": {
    "colab": {
     "base_uri": "https://localhost:8080/"
    },
    "id": "ecJKLuqohUJn",
    "outputId": "4cfbc412-c798-4160-979d-925edd79f706"
   },
   "outputs": [
    {
     "name": "stdout",
     "output_type": "stream",
     "text": [
      "6.0\n",
      "5.666666666666667\n",
      "5\n",
      "2\n"
     ]
    }
   ],
   "source": [
    "print(18 / 3) # Results in a float\n",
    "print(17 / 3) # Results in a float\n",
    "print(17 // 3) # Results in an int\n",
    "print(17 % 3) # Results in an int"
   ]
  },
  {
   "cell_type": "markdown",
   "metadata": {
    "id": "1YvLk3jyhelH"
   },
   "source": [
    "# Floating Point Numbers\n",
    "* When you read an integer value, use input() and then cast a string to integer using int().\n",
    "* When you read a floating-point number, you will cast a string to float using float().\n",
    "    * Note that if you enter an integer value and then float it, the value becomes a floating point number. You know this because the value is display with a \".0\" a the end.\n"
   ]
  },
  {
   "cell_type": "markdown",
   "metadata": {
    "id": "o4kRA2a3hzhv"
   },
   "source": [
    "# Very Big and Very Small Numbers\n",
    "* You can write floats with very big or very small absolute values using the scientific notation.\n",
    "*  The distance from the Earth to the Sun is $1.49 \\times 10^{11}$  meters, or 1.496e11 in Python.\n",
    "*  The mass of one molecule of water is $2.99 \\times 10^{-23}$ grams, or 2.99e-23 in Python.\n",
    "*  Note that Python will display only about 16 digits\n"
   ]
  },
  {
   "cell_type": "code",
   "execution_count": 8,
   "metadata": {
    "colab": {
     "base_uri": "https://localhost:8080/"
    },
    "id": "MO3cv-AGiScl",
    "outputId": "e15e2a20-8219-4f99-dc87-be9c2aee6063"
   },
   "outputs": [
    {
     "name": "stdout",
     "output_type": "stream",
     "text": [
      "149600000000.0\n",
      "2.99e-23\n",
      "3900000000.0\n",
      "3.141592653589793\n"
     ]
    }
   ],
   "source": [
    "from math import pi\n",
    "\n",
    "EarthtoSun = 1.496e11 # Distance Earth to Sun in meters\n",
    "print(EarthtoSun)\n",
    "\n",
    "MassofWater = 2.99e-23 # Mass of a Molecule of MassofWater in grams\n",
    "print (MassofWater)\n",
    "\n",
    "LifeOnEarth = 3.9e9 # Life on Earth Began in Years\n",
    "print(LifeOnEarth)\n",
    "\n",
    "print(pi)"
   ]
  },
  {
   "cell_type": "markdown",
   "metadata": {
    "id": "sFhTCqEXk69h"
   },
   "source": [
    "# Difference between Round and Int\n",
    "* You can also cast a float value to an int. Of course, it can be achieved using the int() function, which simply discards the fractional part (rounding, thus, every number towards 0).\n",
    "* But, generally, it is much more convenient to use round(), which performs that rounding we are used to.\n",
    "* You can also specify the number of digits past the decimal point when to round a number, as in:"
   ]
  },
  {
   "cell_type": "code",
   "execution_count": null,
   "metadata": {
    "id": "OqTT6dNUlIi8"
   },
   "outputs": [],
   "source": [
    "x = 12.455\n",
    "print(round(x,2))\n",
    "\n",
    "print(int(1.3))  # gives 1\n",
    "print(int(1.7)) # gives 1\n",
    "print(int(-1.3)) # gives -1\n",
    "print(int(-1.7)). # gives -1\n",
    "\n",
    "print(round(1.3)) # gives 1\n",
    "print(round(1.7))  # gives 2\n",
    "print(round(-1.3))  # gives -1\n",
    "print(round(-1.7)) # gives -2\n",
    "\n",
    "print(round(12.455,2))"
   ]
  },
  {
   "cell_type": "markdown",
   "metadata": {
    "id": "w_oRua06lm3J"
   },
   "source": [
    "# Floating Points are not Exact\n",
    "* Floating-point real numbers can't be represented with exact precision due to hardware limitations. This can lead to some interesting effects."
   ]
  },
  {
   "cell_type": "code",
   "execution_count": null,
   "metadata": {
    "id": "4PF-Hwq5l6-_"
   },
   "outputs": [],
   "source": [
    "print(0.1 + 0.2) # gives 0.30000000000000004"
   ]
  },
  {
   "cell_type": "markdown",
   "metadata": {
    "id": "AyELcXkmigMM"
   },
   "source": [
    "# Math Module\n",
    "\n",
    "* Python has many functions for calculations with floats. Most of them can be found in the math module. To use this module, you need to import it first by writing the following instruction at the beginning of your program:\n",
    "\n",
    "\n"
   ]
  },
  {
   "cell_type": "code",
   "execution_count": null,
   "metadata": {
    "id": "R3ZUL1LV3uP-"
   },
   "outputs": [],
   "source": [
    "import math"
   ]
  },
  {
   "cell_type": "markdown",
   "metadata": {
    "id": "OfANU0k73woE"
   },
   "source": [
    "* For example, if we want to find the ceiling value for x:  the smallest integer not less than x\n",
    "    * we call the corresponding function from the math module: **math.ceil(x)**.\n",
    "* You may also import only one method from the whole module and use it under its short name.\n"
   ]
  },
  {
   "cell_type": "code",
   "execution_count": null,
   "metadata": {
    "id": "QTjjE2Qzi-BZ"
   },
   "outputs": [],
   "source": [
    "from math import floor"
   ]
  },
  {
   "cell_type": "markdown",
   "metadata": {
    "id": "nVBpyj06jAk4"
   },
   "source": [
    "* Now you can invoke the floor function by it's name: **floor(x)** <br>\n",
    "\n"
   ]
  },
  {
   "cell_type": "code",
   "execution_count": null,
   "metadata": {
    "id": "aMpXZmGMmeYA"
   },
   "outputs": [],
   "source": [
    "# We have to use math.ceil because we imported the entire math module\n",
    "import math\n",
    "x = 7/2\n",
    "print(x)\n",
    "y = math.ceil(x)\n",
    "print(y)\n",
    "\n",
    "\n",
    "# Here,  we can use floor because we explicitly imported it from the math module\n",
    "from math import floor\n",
    "x = 7/2\n",
    "print(x)\n",
    "y = floor(x)\n",
    "print(y)"
   ]
  },
  {
   "cell_type": "markdown",
   "metadata": {
    "id": "uMDfFYSzmYpr"
   },
   "source": [
    "## Implicit Math Functions\n",
    "\n",
    "Operator  | Name                        \n",
    "-------------------|------------------  \n",
    "int(x)      | returns the integer equivalent of x   \n",
    "float(x) |  returns the floating equivalent of x  \n",
    "round(x) | returns an integer rounded to the nearest whole number of x\n",
    "abs(x)  | returns the absolute value of x\n",
    "\n"
   ]
  },
  {
   "cell_type": "markdown",
   "metadata": {
    "id": "JZBa5435lTxH"
   },
   "source": [
    "## Math Module Functions\n",
    "\n",
    "Syntax | Function\n",
    "-------------- |-------------------\n",
    "floor(x)  | returns the largest integer less than or equal to x\n",
    "ceil(x) | returns the smallest integer greater than or equal to x\n",
    "sqrt(x)  | returns the square root of x\n",
    "log(x) |  returns the natural logarithm of x\n",
    "log(x,a) | returns the logarithm of x to base a\n",
    "pi | mathematical constant pi = 3.1415926...\n",
    "e | mathematical constant e = 2.71828...\n",
    "sin(x) | returns the sine of x in radians\n",
    "cos(x) | returns the cosine of x in radians\n",
    "tan(x) | returns the tangent function of x\n",
    "asin(x) | returns the arcsine of x in radians\n"
   ]
  },
  {
   "cell_type": "markdown",
   "metadata": {
    "id": "yXZOnYEcm-oK"
   },
   "source": [
    "# Formatting Values\n",
    "* So far, we have printed the default format for values.\n",
    "* This can be a problem if we want to print several columns of values, since they can vary in length.\n",
    "* We will now look at how they can be formatted.\n",
    "* We will use the **.format()** method to format values.\n",
    "* The general sytax of the format method is:<br>\n",
    "\n",
    "\"{f1}{f2}{f3}\".format(variable1, variable2, variable3), where\n",
    "* {f1} is the formatting string for variable1\n",
    "* {f2} is the formatting string for variable2\n",
    "* {f3} is the formatting string for variable3\n",
    "* The formatting string is in the format: :[flags][width][.precision]type, where <br>\n",
    "\n",
    "\n",
    "Flag | Explanation\n",
    "----------- | -------------------\n",
    "< | The field will be left-aligned within the available space. This is usually the default for strings\n",
    "> | The field will be right-aligned within the available space. This is the default for numbers.\n",
    "0 | If the width field is preceded by a zero ('0') character, zero-padding for numeric types will be enabled.\n",
    ", | Signals the use of a comma for a thousands separator\n",
    "= | Forces the padding to be placed after the sign (if any) but before the digits\n",
    "^ | Forces the field to be centered within the available space\n",
    "space | Indicates that negative number should be prefixed with a minus sign and a space should be used for a positive number\n",
    "\n",
    "* width - the total width of the field\n",
    "* precision - the number of decimal digits. If this is used with a string, then it indicates that the string should be truncated to this number of positions\n",
    "\n",
    "Type | Explanation\n",
    "----------|--------------------\n",
    "d | Decimal representation of signed integers\n",
    "i | Decimal representation of signed integers\n",
    "e | Floating point exponential format (lowercase).\n",
    "E | Floating point exponential format (uppercase).\n",
    "f | Floating point decimal format.\n",
    "F |  Floating point decimal format.\n",
    "g | Same as \"e\" if exponent is greater than -4 or less than precision, \"f\" otherwise.\n",
    "G |  Same as \"E\" if exponent is greater than -4 or less than precision, \"F\" otherwise.\n",
    "s |  String (converts any python object using str())."
   ]
  },
  {
   "cell_type": "code",
   "execution_count": 14,
   "metadata": {
    "colab": {
     "base_uri": "https://localhost:8080/"
    },
    "id": "2eGMYJuHqD4t",
    "outputId": "61bc187c-8fb4-42a3-8f12-2708b959e8a8"
   },
   "outputs": [
    {
     "name": "stdout",
     "output_type": "stream",
     "text": [
      "hello\n",
      "hello   \n",
      "   hello\n",
      " hello  \n",
      "hel \n",
      "  42\n",
      "0042\n",
      "onetwothree\n",
      "one = one, two = two, three = three\n",
      "one = one     , two = two     , three = three   \n",
      "one = on, two = tw, three = th\n",
      "x 3.1x\n",
      "123,456,789.02\n",
      "8.5-4.4\n",
      "Todays high is 8.5, the low is -4.4.\n",
      "Todays high is     8.50, the low is    -4.40.\n",
      "   Hi     Low   \n",
      "    91.5    66.4\n",
      "   101.5    55.4\n",
      "     8.5    -4.4\n"
     ]
    }
   ],
   "source": [
    "from math import pi\n",
    "\n",
    "# String Examples\n",
    "print(\"{}\".format(\"hello\")) #|h|e|l|l|o|\n",
    "print(\"{:8s}\".format(\"hello\")) #h|e|l|l|o| | | |\n",
    "print(\"{:>8s}\".format(\"hello\")) #| | | |h|e|l|l|o|\n",
    "print(\"{:^8s}\".format(\"hello\")) #| |h|e|l|l|o| | |\n",
    "print(\"{:^4.3s}\".format(\"hello\")) #| |h|e| |\n",
    "\n",
    "# Integer Examples\n",
    "print(\"{:4d}\".format(42))   #| | |4|2|\n",
    "print(\"{:04d}\".format(42)) #|0|0|4|2|\n",
    "\n",
    "# Other Examples\n",
    "one = \"one\"\n",
    "two = \"two\"\n",
    "three = \"three\"\n",
    "\n",
    "print(\"{}{}{}\".format(\"one\",\"two\",\"three\"))\n",
    "print(\"one = {:s}, two = {:s}, three = {:s}\".format(one, two, three))\n",
    "print(\"one = {:8s}, two = {:8s}, three = {:8s}\".format(one, two, three))\n",
    "print(\"one = {:.2s}, two = {:.2s}, three = {:.2s}\".format(one, two, three))\n",
    "\n",
    "print(\"x{:4.1f}x\".format(pi))\n",
    "print('{:,.2f}'.format(123456789.017))\n",
    "\n",
    "\n",
    "Hi = 8.5\n",
    "Lo = -4.4\n",
    "print(\"{}{}\".format(Hi, Lo))\n",
    "print(\"Todays high is {}, the low is {}.\".format(Hi, Lo))\n",
    "print(\"Todays high is {:8.2f}, the low is {:8.2f}.\".format(Hi, Lo))\n",
    "print(\"{:^8s}{:^8s}\".format(\"Hi\",\"Low\"))\n",
    "print(\"{:8.1f}{:8.1f}\".format(91.5, 66.4))\n",
    "#print(\"{:<8.1f}{:<8.1f}\".format(91.5, 66.4))\n",
    "print(\"{:8.1f}{:8.1f}\".format(101.5, 55.4))\n",
    "print(\"{:8.1f}{:8.1f}\".format(8.5, -4.4))\n",
    "\n",
    "\n"
   ]
  },
  {
   "cell_type": "markdown",
   "metadata": {
    "id": "MsklEXKevn8a"
   },
   "source": [
    "# Further Reading from the Think Python Book\n",
    "* [Assignment statements](https://greenteapress.com/thinkpython2/html/thinkpython2003.html#sec16)\n",
    "* [Variable names](https://greenteapress.com/thinkpython2/html/thinkpython2003.html#sec17)\n",
    "* [Expressions and statements](https://greenteapress.com/thinkpython2/html/thinkpython2003.html#sec18)\n",
    "* [Script mode](https://greenteapress.com/thinkpython2/html/thinkpython2003.html#sec19)\n",
    "* [Order of operations String operations Comments](https://greenteapress.com/thinkpython2/html/thinkpython2003.html#sec20)\n",
    "* [String operations](https://greenteapress.com/thinkpython2/html/thinkpython2003.html#sec21)\n",
    "* [Comments](https://greenteapress.com/thinkpython2/html/thinkpython2003.html#sec22)\n",
    "* [Debugging](https://greenteapress.com/thinkpython2/html/thinkpython2003.html#sec23)\n",
    "* [Glossary](https://greenteapress.com/thinkpython2/html/thinkpython2003.html#sec24)\n",
    "* [Exercises](https://greenteapress.com/thinkpython2/html/thinkpython2003.html#sec25)"
   ]
  },
  {
   "cell_type": "markdown",
   "metadata": {
    "id": "5qFUCWsYx5cP"
   },
   "source": [
    "# Ex1: Last Digit\n",
    "* Prompt for a number and print its last digit.\n",
    "* Be sure to use to .format method to create your output.\n",
    "* Use only math for your solution; do no use any string functions.\n",
    "   \n",
    "Enter a number: 23 <br>\n",
    "Last Digit: 3 <br><br>\n",
    "\n",
    "\n",
    "Enter a number: 5 <br>\n",
    "Last Digit: 5 <br><br>\n",
    "\n",
    "\n",
    "Enter a number: 10 <br>\n",
    "Last Digit: 0 <br><br>"
   ]
  },
  {
   "cell_type": "markdown",
   "metadata": {
    "id": "WGw2iwemyYC2"
   },
   "source": [
    "# Ex2: Two Digits\n",
    "* Enter a two digit number and print out its digits separately.\n",
    "*  Be sure to use to .format method to create your output.\n",
    "* Use only math for your solution; do no use any string functions.\n",
    "\n",
    "Enter a Number: 17 <br>\n",
    "Ones Digit: 7 <br>\n",
    "Tens Digit: 1 <br><br>\n",
    "\n",
    "\n",
    "Enter a Number: 40 <br>\n",
    "Ones Digit: 0 <br>\n",
    "Tens Digit: 4 <br><br>\n",
    "\n",
    "\n",
    "Enter a Number: 33 <br>\n",
    "Ones Digit: 3 <br>\n",
    "Tens Digit: 3 <br>"
   ]
  },
  {
   "cell_type": "markdown",
   "metadata": {
    "id": "02waAWuvyuXd"
   },
   "source": [
    "# Ex3: Swap Digits\n",
    "* Enter a two digit number and swap their digits and create a new two digit number.\n",
    "* Be sure to use the .format method to create your output.\n",
    "* Use only math for your solution; do no use any string functions.\n",
    "\n",
    "Enter a Number: 17 <br>\n",
    "Swapped Number: 71 <br><br>\n",
    "\n",
    "\n",
    "Enter a Number: 33 <br>\n",
    "Swapped Number: 33 <br><br>\n",
    "\n",
    "\n",
    "Enter a Number: 29 <br>\n",
    "Swapped Number: 92"
   ]
  },
  {
   "cell_type": "markdown",
   "metadata": {
    "id": "EjjjnRHUzIEG"
   },
   "source": [
    "# Ex4: Last Two Digits\n",
    "* Enter a number greater than zero and print the value its last two digits.\n",
    "* Be sure to use to .format method to create your output. You will have to use leading zeros.\n",
    "* Use only math for your solution; do no use any string functions.\n",
    "\n",
    "Enter a Number: 178  <br>\n",
    "Last Two Digits: 78  <br><br>\n",
    "\n",
    "Enter a Number: 4 <br>\n",
    "Last Two Digits: 04 <br><br>\n",
    "\n",
    "\n",
    "Enter a Number: 100 <br>\n",
    "Last Two Digits: 00"
   ]
  },
  {
   "cell_type": "markdown",
   "metadata": {
    "id": "d19XsCwMzijN"
   },
   "source": [
    "# Ex5: Tens Digit\n",
    "* Enter a number and print its tens digit.\n",
    "* Be sure to use the .format method to create your output\n",
    "* Use only math for your solution; do no use any string functions.\n",
    "\n",
    "Enter a Number: 72 <br>\n",
    "Tens Digit: 7 <br><br>\n",
    "\n",
    "\n",
    "Enter a Number: 1234 <br>\n",
    "Tens Digit: 3 <br><br>\n",
    "\n",
    "\n",
    "Enter a Number: 6 <br>\n",
    "Tens Digit: 0"
   ]
  },
  {
   "cell_type": "markdown",
   "metadata": {
    "id": "_lmZili1z23E"
   },
   "source": [
    "# Ex6: Sum of Digits\n",
    "* Enter a three digit number and print the sum of the digits.\n",
    "* Be sure to use the .format method to create your output.\n",
    "* Use only math for your solution; do no use any string functions.\n",
    "\n",
    "  \n",
    "Enter a 3 Digit Number: 179 <br>\n",
    "Sum of Digits: 17 <br><br>\n",
    "\n",
    "Enter a 3 Digit Number: 829 <br>\n",
    "Sum of Digits: 19 <br><br>\n",
    "\n",
    "Enter a 3 Digit Number: 204 <br>\n",
    "Sum of Digits: 6"
   ]
  },
  {
   "cell_type": "markdown",
   "metadata": {
    "id": "cHwIc6280I99"
   },
   "source": [
    "# Ex7: Reverse Three Digits\n",
    "* Enter a three digit number and reverse the digits.\n",
    "* Be sure to use to .format method to create your output.\n",
    "* Use only math for your solution; do no use any string functions.\n",
    "\n",
    "Enter a 3 Digit Number: 291 <br>\n",
    "Reverse of Digits: 192 <br><br>\n",
    "\n",
    "\n",
    "Enter a 3 Digit Number: 321 <br>\n",
    "Reverse of Digits: 123 <br><br>\n",
    "\n",
    "\n",
    "Enter a 3 Digit Number: 444 <br>\n",
    "Reverse of Digits: 444"
   ]
  },
  {
   "cell_type": "markdown",
   "metadata": {
    "id": "gJi0Jz8K0ZUb"
   },
   "source": [
    "# Ex8: Merge Two Numbers\n",
    "* Prompt for two two-digit numbers.\n",
    "* Merge them into single number as follows:\n",
    "    * Tens digit from first number\n",
    "    * Tens digit from second number\n",
    "    * Units digit from first number\n",
    "    * Units digit form second number\n",
    "* Use only math for your solution; do no use any string functions.\n",
    "\n",
    "Enter First 2 Digit Number: 12 <br>\n",
    "Enter Second 2 Digit Number: 34 <br>\n",
    "Merged Number: 1324 <br><br>\n",
    "\n",
    "\n",
    "Enter First 2 Digit Number: 33 <br>\n",
    "Enter Second 2 Digit Number: 55 <br>\n",
    "Merged Number: 3535 <br><br>\n",
    "\n",
    "Enter First 2 Digit Number: 29 <br>\n",
    "Enter Second 2 Digit Number: 11 <br>\n",
    "Merged Number: 2191"
   ]
  },
  {
   "cell_type": "markdown",
   "metadata": {
    "id": "2l78QvKY08N7"
   },
   "source": [
    "#Ex9: Fractional Part\n",
    "* Enter a positive real number and print its fractional part.\n",
    "* Use only math for your solution; do no use any string functions.\n",
    "* **Hint**: Round the result to 10 digits using the round function.\n",
    "  \n",
    "\n",
    "Enter a Number: 17.9 <br>\n",
    "Fractional Part: 0.9 <br><br>\n",
    "\n",
    "\n",
    "Enter a Number: 10.34 <br>\n",
    "Fractional Part: 0.34 <br><br>\n",
    "\n",
    "\n",
    "Enter a Number: 0.001 <br>\n",
    "Fractional Part: 0.001 <br>"
   ]
  },
  {
   "cell_type": "markdown",
   "metadata": {
    "id": "VQP1cJEs1PZF"
   },
   "source": [
    "# Ex10: First Digit After Decimal\n",
    "* Prompt for a positive real number\n",
    "* Print the first digit to the right of the decimal point.\n",
    "* Use only math for your solution; do no use any string functions.\n",
    "\n",
    "Enter Number: 1.79 <br>\n",
    "Tenths Value: 7 <br><br>\n",
    "\n",
    "\n",
    "Enter Number: 1.34 <br>\n",
    "Tenths Value: 3 <br><br>\n",
    "\n",
    "Enter Number: 0.001 <br>\n",
    "Tenths Value: 0"
   ]
  }
 ],
 "metadata": {
  "colab": {
   "provenance": [],
   "toc_visible": true
  },
  "kernelspec": {
   "display_name": "Python 3",
   "language": "python",
   "name": "python3"
  },
  "language_info": {
   "codemirror_mode": {
    "name": "ipython",
    "version": 3
   },
   "file_extension": ".py",
   "mimetype": "text/x-python",
   "name": "python",
   "nbconvert_exporter": "python",
   "pygments_lexer": "ipython3",
   "version": "3.7.7"
  }
 },
 "nbformat": 4,
 "nbformat_minor": 1
}
