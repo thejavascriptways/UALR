{
  "nbformat": 4,
  "nbformat_minor": 0,
  "metadata": {
    "colab": {
      "provenance": []
    },
    "kernelspec": {
      "name": "python3",
      "display_name": "Python 3"
    },
    "language_info": {
      "name": "python"
    }
  },
  "cells": [
    {
      "cell_type": "markdown",
      "source": [
        "# List\n",
        "* Most of programs work not only with variables. They also use lists of variables.\n",
        "* A program can handle an information about students by reading the list of students from the keyboard or from a file.\n",
        "    * A change in the number of students in a class must not require modification of the program source code.\n",
        "* We have already faced the task of processing elements of a sequence — for example, when finding the largest element of the sequence. But we haven't kept the whole sequence in computer's memory. However, in many situations it is necessary to keep the entire sequence, like if we had to print out all the elements of a sequence in ascending order (\"sort a sequence\").\n"
      ],
      "metadata": {
        "id": "k3TyVPxMuBY4"
      }
    },
    {
      "cell_type": "code",
      "source": [
        "Primes = [2, 3, 5, 7, 11, 13]\n",
        "Rainbow = ['Red', 'Orange', 'Yellow', 'Green', 'Blue', 'Indigo', 'Violet']\n",
        "print(Primes)\n",
        "print(Rainbow)"
      ],
      "metadata": {
        "id": "EoooKkiduhh2"
      },
      "execution_count": null,
      "outputs": []
    },
    {
      "cell_type": "markdown",
      "source": [
        "# Creating a List\n",
        "To store such data, in Python you can use the data structure called **list** (in most programming languages the term — “array” is used).\n",
        "* A list is a sequence of elements numbered from 0, just as characters in the string.\n",
        "* The list can be defined manually defining each of its elements, like here:\n",
        "The list Primes has 6 elements, namely: `Primes[0] = 2, Primes[1] = 3, Primes[2] = 5, Primes[3] = 7, Primes[4] = 11, Primes[5] = 13`.\n",
        "* The list Rainbow has 7 elements, each of which is the string. Indexes of elements are written in square brackets.\n",
        "* Like characters in a string, list elements can also have negative index, for example, `Primes[-1] = 13, Primes[-6] = 2`. The negative index means we start at the last element and go left when reading a list.\n",
        "\n"
      ],
      "metadata": {
        "id": "MM9zy2UPureT"
      }
    },
    {
      "cell_type": "code",
      "source": [
        "# Create a list\n",
        "Primes = [2, 3, 5, 7, 11, 13]\n",
        "Rainbow = ['Red', 'Orange', 'Yellow', 'Green', 'Blue', 'Indigo', 'Violet']"
      ],
      "metadata": {
        "id": "YoDWpKhRvXzV"
      },
      "execution_count": null,
      "outputs": []
    },
    {
      "cell_type": "markdown",
      "source": [
        "What is `Primes[-3]`? Make your guess, then type `print(Primes[-3])`"
      ],
      "metadata": {
        "id": "XuA_mc-ivlYW"
      }
    },
    {
      "cell_type": "markdown",
      "source": [
        "# Number of Elements in a List: len()\n",
        "You can obtain the number of elements in a list with the function len (meaning length of the list), e.g. `len(primes) == 6`."
      ],
      "metadata": {
        "id": "miEbAqdyvrmP"
      }
    },
    {
      "cell_type": "code",
      "source": [
        "primes = [2, 3, 5, 7, 11, 13]\n",
        "print(len(primes))"
      ],
      "metadata": {
        "id": "3iQefNdlwKOG"
      },
      "execution_count": null,
      "outputs": []
    },
    {
      "cell_type": "markdown",
      "source": [
        "# Printing a list\n"
      ],
      "metadata": {
        "id": "4Ko2g2CIDmrt"
      }
    },
    {
      "cell_type": "code",
      "source": [
        "Rainbow = ['Red', 'Orange', 'Yellow', 'Green', 'Blue', 'Indigo', 'Violet']\n",
        "\n",
        "#You can obtain the number of elements in a list with the function len()\n",
        "for i in range(len(Rainbow)):\n",
        "    print(Rainbow[i])"
      ],
      "metadata": {
        "id": "Xml2zSgtD_aZ"
      },
      "execution_count": null,
      "outputs": []
    },
    {
      "cell_type": "markdown",
      "source": [
        "* You can print elements of a list a with `print(a)`; this displays the list items surrounded by square brackets and separated by commas.\n",
        "* By formatting the value, you can print all the elements in one line or one item per line.\n",
        "* Here are two examples of that, using other forms of loop:"
      ],
      "metadata": {
        "id": "ZMYHLVRVEWyn"
      }
    },
    {
      "cell_type": "code",
      "source": [
        "a = [1, 2, 3, 4, 5]\n",
        "\n",
        "# Print all the values on a single line\n",
        "for i in range(len(a)):\n",
        "    print(a[i], \" \", end=\"\")\n",
        "print() # print a new line\n",
        "\n",
        "# Print all the values one per line\n",
        "for i in range(len(a)):\n",
        "    print(a[i])"
      ],
      "metadata": {
        "id": "CAgE-pNrEi-7"
      },
      "execution_count": null,
      "outputs": []
    },
    {
      "cell_type": "markdown",
      "source": [
        "# List Elements Are Changable\n",
        "Unlike strings, the elements of a list are changeable; they can be changed by assigning new values to them."
      ],
      "metadata": {
        "id": "Co-E37Ur4wTm"
      }
    },
    {
      "cell_type": "code",
      "source": [
        "Rainbow = ['Red', 'Orange', 'Yellow', 'Green', 'Blue', 'Indigo', 'Violet']\n",
        "print(Rainbow[0])\n",
        "\n",
        "Rainbow[0] = 'red'\n",
        "print('And now print the rainbow!')\n",
        "for i in range(len(Rainbow)):\n",
        "    print(Rainbow[i])"
      ],
      "metadata": {
        "id": "f8lGinW442SL"
      },
      "execution_count": null,
      "outputs": []
    },
    {
      "cell_type": "markdown",
      "source": [
        "# Creating a List: **append()**\n",
        "* We want to tell you several ways of creating and reading lists.\n",
        "* First of all, you can create an empty list (the list with no items, its length is 0), and you can add items to the end of your list using append.\n",
        "    * For example, suppose the program receives the number of elements in the list n, and then n elements of the list one by one each at the separate line. Look at the example of input data in this format."
      ],
      "metadata": {
        "id": "ctff8mhp4-L1"
      }
    },
    {
      "cell_type": "code",
      "source": [
        "a = [] # create an empty list\n",
        "n = int(input()) # read number of element in the list\n",
        "\n",
        "for i in range(n):\n",
        "    new_element = int(input()) # read next element\n",
        "    a.append(new_element) # add it to the list\n",
        "\n",
        "print(a)"
      ],
      "metadata": {
        "id": "vzMydgce5OwK"
      },
      "execution_count": null,
      "outputs": []
    },
    {
      "cell_type": "markdown",
      "source": [
        "# Example Using **len()** and **append()**\n",
        "Let's demonstrate how you can read an arbitrary number of elements into a list, then get the number of elements in the list using the **len()** method.\n",
        "\n",
        "**Numbers.txt**\n",
        "```\n",
        "1809\n",
        "1854\n",
        "1860\n",
        "1891\n",
        "1925\n",
        "\n",
        "```\n",
        "Copy, paste and save the above text as Numbers.txt"
      ],
      "metadata": {
        "id": "6GWOjSaR5hV8"
      }
    },
    {
      "cell_type": "markdown",
      "source": [
        "# Mounting Google Drive\n",
        "Mount Google Drive in Google Colab. This allows you to access the files stored in your Drive account from within Colab. To mount your Drive account, run the following code:"
      ],
      "metadata": {
        "id": "7VvLHqJS7L2x"
      }
    },
    {
      "cell_type": "code",
      "source": [
        "from google.colab import drive\n",
        "drive.mount('/content/drive')"
      ],
      "metadata": {
        "id": "LR65Vsb-7czP"
      },
      "execution_count": null,
      "outputs": []
    },
    {
      "cell_type": "code",
      "source": [
        "# Create an empty list\n",
        "a = []\n",
        "\n",
        "# Open a file for reading\n",
        "path = \"/content/drive/MyDrive/IFSC4399_5399_Data_Fundamentals/\"\n",
        "numbersfile = open(path + \"Numbers.txt\", \"r\")\n",
        "\n",
        "# Read the first line of the file\n",
        "x = numbersfile.readline()\n",
        "\n",
        "# End of file is indicated when the input is empty\n",
        "while x != \"\":\n",
        "   # Convert the number to an integer and append it to the list\n",
        "    a.append(int(x))\n",
        "\n",
        "   # Read the next line of the file\n",
        "    x = numbersfile.readline()\n",
        "\n",
        "# Close the file\n",
        "numbersfile.close()\n",
        "   # Print the list - get the number of elements using the len() method\n",
        "\n",
        "print(\"Print elements of the list\")\n",
        "for i in range(len(a)):\n",
        "    print(a[i])\n"
      ],
      "metadata": {
        "id": "iUjz1iAr6Lec"
      },
      "execution_count": null,
      "outputs": []
    },
    {
      "cell_type": "markdown",
      "source": [
        "# List Operations\n",
        "There are several operations defined for lists:\n",
        "* list concatenation (\"gluing\" one list to another) and repetition (multiplying a list by a number)."
      ],
      "metadata": {
        "id": "gWErwYmL8HFL"
      }
    },
    {
      "cell_type": "code",
      "source": [
        "a = [1, 2, 3]\n",
        "b = [4, 5]\n",
        "c = a + b\n",
        "d = b * 3\n",
        "\n",
        "print([7, 8] + [9])\n",
        "print([0, 1] * 3)\n",
        "print(c)\n",
        "print(d)"
      ],
      "metadata": {
        "id": "MESoO3we8U3Q"
      },
      "execution_count": null,
      "outputs": []
    },
    {
      "cell_type": "markdown",
      "source": [
        "# Split a String Into a List: **split()**\n",
        "* List items can be given in one line separated by a character; in this case, the entire list can be read using input().\n",
        "* You can then use a string method **split()**, which returns a **list** of strings resulting after cutting the initial string by spaces. You can also specify a **seperator** other than a space.\n"
      ],
      "metadata": {
        "id": "OJEd5hoy8i3M"
      }
    },
    {
      "cell_type": "code",
      "source": [
        "s = \"a, b, c\"\n",
        "a = s.split(\", \")\n",
        "\n",
        "for i in range(len(a)):\n",
        "    print (a[i])"
      ],
      "metadata": {
        "id": "akAv67zL8yuf"
      },
      "execution_count": null,
      "outputs": []
    },
    {
      "cell_type": "markdown",
      "source": [
        "# Combine a List Into a String: **join()**\n",
        "* In Python, you can display a list of strings using one-line commands.\n",
        "    * For that, the method **join** is used:\n",
        "    * This method has one parameter: a list of strings.\n",
        "    * It returns the string obtained by concatenation of the elements given, and the separator is inserted between the elements of the list; this separator is equal to the string on which is the method applied.\n"
      ],
      "metadata": {
        "id": "eOu3L-rZ9F8m"
      }
    },
    {
      "cell_type": "code",
      "source": [
        "# Create a List\n",
        "a = [\"a\",\"b\",\"c\"]\n",
        "\n",
        "# Contatenate the list items, separated by a comma and blank\n",
        "b = \", \".join(a)\n",
        "print(b)\n",
        "\n",
        "a = ['red', 'green', 'blue']\n",
        "print(' '.join(a))    # prints red green blue\n",
        "print('***'.join(a))  # prints red***green***blue"
      ],
      "metadata": {
        "id": "tRJuzZpVARnw"
      },
      "execution_count": null,
      "outputs": []
    },
    {
      "cell_type": "markdown",
      "source": [
        "# Generators\n",
        "To create a list filled with identical items, you can use the repetition of list, for example:\n"
      ],
      "metadata": {
        "id": "Yxidosfydm-H"
      }
    },
    {
      "cell_type": "code",
      "source": [
        "n=5\n",
        "a = [0] * n\n",
        "print(a)"
      ],
      "metadata": {
        "id": "DxQqx-mddrlt"
      },
      "execution_count": null,
      "outputs": []
    },
    {
      "cell_type": "markdown",
      "source": [
        "# List Slices\n",
        "With lists and strings, you can do slices. Namely:\n",
        "```\n",
        "A[i:j]     # slice j-i elements A[i], A[i+1], ..., A[j-1].\n",
        "A[i:j:-1]  # slice i-j elements A[i], A[i-1], ..., A[j+1] (that is, changing the order of the elements).\n",
        "A[i:j:k]   # cut with the step k: A[i], A[i+k], A[i+2*k],... . If the value of k<0, the elements come in the opposite order.\n",
        "```\n",
        "\n",
        "In `A[i:j]` you may omit each of the numbers i or j (remember, they stand for the beginning of the slce and for the end of the slice)."
      ],
      "metadata": {
        "id": "jBehkevdAvFQ"
      }
    },
    {
      "cell_type": "code",
      "source": [
        "s = ['a','b','c','d','e','f']\n",
        "print(s[1:4])\n",
        "print(s[1:])\n",
        "print(s[:4])\n",
        "\n",
        "a = [10, 20, 30, 40, 50, 60]\n",
        "print(a[1:4])"
      ],
      "metadata": {
        "id": "GbCwKZlAA1dD"
      },
      "execution_count": null,
      "outputs": []
    },
    {
      "cell_type": "markdown",
      "source": [
        "* Lists, unlike strings, are mutable objects: you can assign a list item to a new value. Moreover, it is possible to change entire slices.\n",
        "* In the following example, we received a list `[1, 2, 3, 4, 5]`, and then try to replace the two elements of the slice `A[2:4]` with a new list of three elements. The resulting list is as follows: `[1, 2, 7, 8, 9, 5]`."
      ],
      "metadata": {
        "id": "zSWJqkxPecUL"
      }
    },
    {
      "cell_type": "code",
      "source": [
        "A = [1, 2, 3, 4, 5]\n",
        "A[2:4] = [7, 8, 9]\n",
        "print(A)"
      ],
      "metadata": {
        "id": "ev3dkHVEeyog"
      },
      "execution_count": null,
      "outputs": []
    },
    {
      "cell_type": "markdown",
      "source": [
        "* Another example, the resulting list will be `[40, 2, 30, 4, 20, 6, 10]`\n",
        "*  The reason is,`A[::-2]` is a list of elements `A[-1], A[-3], A[-5], A[-7]`, and that elements are assigned to 10, 20, 30, 40, respectively.\n",
        "* If a discontinuous slice (i.e. a slice with a step k, k > 1) is assigned a new value, then the number of elements in the old and new slices necessarily coincide, otherwise error ValueError occurs.\n",
        "* Note that `A[i]` is a list item, not a slice!"
      ],
      "metadata": {
        "id": "ozD2mJH5e8pI"
      }
    },
    {
      "cell_type": "code",
      "source": [
        "A = [1, 2, 3, 4, 5, 6, 7]\n",
        "print(A[::2])\n",
        "\n",
        "A[::-2] = [10, 20, 30, 40]\n",
        "print(A)\n",
        "\n",
        "print(A [::-1])\n",
        "#A [::-1] = [10, 20, 30, 40] # cause error\n",
        "A [::-1] = [10, 20, 30, 40, 8, 30, 2] # This works\n",
        "print(A)"
      ],
      "metadata": {
        "id": "ei_7Ofp7jdJb"
      },
      "execution_count": null,
      "outputs": []
    },
    {
      "cell_type": "markdown",
      "source": [
        "# Operations on Lists\n",
        "You can easily do many different operations with lists.\n",
        "\n",
        "Function | Description\n",
        "----------| ------------|\n",
        "x in A | Check whether an item in the list. Returns True or False\n",
        "x not in A | The same as not(x in A)\n",
        "min(A) | The smallest element of list\n",
        "max(A) | The largest element in the list\n",
        "A.index(x) | The index of the first occurrence of element x in the list; in its absence generates an exception ValueError\n",
        "A.count(x) | The number of occurrences of element x in the list\n"
      ],
      "metadata": {
        "id": "OqVOD09QBIXb"
      }
    },
    {
      "cell_type": "code",
      "source": [
        "a = [2, 3, 5, 8, 13, 5, 5]\n",
        "\n",
        "# Check to see that 8 is in the list\n",
        "if 8 in a:\n",
        "    print(\"8 is in the list\")\n",
        "\n",
        "# Check to see if 15 is not in the list\n",
        "if 15 not in a:\n",
        "    print(\"15 is not in the list\")\n",
        "\n",
        "# Print the maximum of the list\n",
        "print(max(a))\n",
        "\n",
        "# Print the minumum of the list\n",
        "print(min(a))\n",
        "\n",
        "# Print the index of the element that has a value of 13\n",
        "print (a.index(13))\n",
        "\n",
        "# Print the number of occurrance of the value 5\n",
        "print (a.count(5))"
      ],
      "metadata": {
        "id": "azfwljohCt-Z"
      },
      "execution_count": null,
      "outputs": []
    },
    {
      "cell_type": "markdown",
      "source": [
        "# Further Reading from the Think Python Book\n",
        "* [Lists](https://greenteapress.com/thinkpython2/html/thinkpython2011.html)\n",
        "    * [A List is a Sequence](https://greenteapress.com/thinkpython2/html/thinkpython2011.html#sec114)\n",
        "    * [Lists are Mutable](https://greenteapress.com/thinkpython2/html/thinkpython2011.html#sec115)\n",
        "    * [Traversing with a For Loop](https://greenteapress.com/thinkpython2/html/thinkpython2011.html#sec116)\n",
        "    * [List Operations](https://greenteapress.com/thinkpython2/html/thinkpython2011.html#sec117)\n",
        "    * [List Slices](https://greenteapress.com/thinkpython2/html/thinkpython2011.html#sec118)\n",
        "    * [List Methods](https://greenteapress.com/thinkpython2/html/thinkpython2011.html#sec119)\n",
        "    * [Map, Filter, and Reduce](https://greenteapress.com/thinkpython2/html/thinkpython2011.html#sec120)\n",
        "    * [Deleting Elements](https://greenteapress.com/thinkpython2/html/thinkpython2011.html#sec121)\n",
        "    * [Lists and Strings](https://greenteapress.com/thinkpython2/html/thinkpython2011.html#sec122)"
      ],
      "metadata": {
        "id": "yWuYWoQRlOWo"
      }
    },
    {
      "cell_type": "markdown",
      "source": [
        "#Ex1: Odd Indices\n",
        "\n",
        "* Prompt for a string containing integers separated by spaces.\n",
        "* Load the values into a list.\n",
        "* Print the values with ane odd index number (a[1], a[3], a[5]...).\n",
        "* Do NOT use the list or string functions or methods for this assignment (except the .split() method).\n",
        "* Do NOT use the for x in y iterator; use for x in range(n)\n",
        "\n",
        "```\n",
        "Enter Values Separated by Spaces: 1 3 5 7 9\n",
        "3\n",
        "7\n",
        "```"
      ],
      "metadata": {
        "id": "oGMiMRnnmr_T"
      }
    },
    {
      "cell_type": "markdown",
      "source": [
        "#Ex2: Odd Elements\n",
        "* Prompt for a string containing integers separated by spaces.\n",
        "* Load the values into a list.\n",
        "* Print the values that are odd.\n",
        "* Do NOT use the list or string functions or methods for this assignment (except the .split() method).\n",
        "* Do NOT use the for x in y iterator; use for x in range(n)\n",
        "```\n",
        "Enter Values Separated by Spaces: 1 20 30 3 40 50 9 11\n",
        "1\n",
        "3\n",
        "9\n",
        "11\n",
        "```"
      ],
      "metadata": {
        "id": "JAxZxbg0qbsw"
      }
    },
    {
      "cell_type": "markdown",
      "source": [
        "#Ex3: Greater Than Previous\n",
        "* Prompt for a string containing integers separated by spaces.\n",
        "* Load the values into a list.\n",
        "* Print all of the elements that are greater than the previous element.\n",
        "* Do NOT use the list or string functions or methods for this assignment (except the .split() method).\n",
        "& Do NOT use the for x in y iterator; use for x in range(n)\n",
        "\n",
        "```\n",
        "Enter Values Separated by Spaces: 1 5 2 4 3\n",
        "5\n",
        "4\n",
        "```"
      ],
      "metadata": {
        "id": "568v0XbfKgMJ"
      }
    },
    {
      "cell_type": "markdown",
      "source": [
        "#Ex4: Neighbors of the Same Sign\n",
        "\n",
        "* Prompt for a string containing integers separated by spaces.\n",
        "* Load the values into a list.\n",
        "Find and print the first adjacent elements which have the same sign.\n",
        "* If there is no such pair, leave the output blank.\n",
        "* Do NOT use the list or string functions or methods for this assignment (except the .split() method).\n",
        "* Do NOT use the for x in y iterator; use for x in range(n)\n",
        "\n",
        "```\n",
        "Enter Values Separated by Spaces: -1 2 3 -1 -2\n",
        "2 3\n",
        "```"
      ],
      "metadata": {
        "id": "fInCu0dWPA0G"
      }
    },
    {
      "cell_type": "markdown",
      "source": [
        "#Ex5: Greater Than Neighbors\n",
        "* Prompt for a string containing integers separated by spaces.\n",
        "* Load the values into a list.\n",
        "* Determine and print the quantity of elements that are greater than both of their neighbors.\n",
        "* The first and the last items of the list shouldn't be considered because they don't have two neighbors.\n",
        "* Do NOT use the list or string functions or methods for this assignment (except the .split() method).\n",
        "* Do NOT use the for x in y iterator; use for x in range(n)\n",
        "\n",
        "```\n",
        "Enter Values Separated by Spaces: 1 5 1 5 1\n",
        "Example Output\n",
        "2\n",
        "```\n"
      ],
      "metadata": {
        "id": "fXeaD_j0SqlM"
      }
    },
    {
      "cell_type": "markdown",
      "source": [
        "#Ex6: Largest Element\n",
        "* Prompt for a string containing integers separated by spaces.\n",
        "* Load the values into a list.\n",
        "* Determine the element in the list with the largest value.\n",
        "* Print the value of the largest element and then the index number.\n",
        "* If the highest element is not unique, print the index of the first instance.\n",
        "* Do NOT use the list or string functions or methods for this assignment (except the .split() method).\n",
        "* Do NOT use the for x in y iterator; use for x in range(n)\n",
        "\n",
        "```\n",
        "  Enter Values Separated by Spaces: 1 2 3 2 1\n",
        "  Largest Value: 3\n",
        "  Index of Largest Value: 2\n",
        "```"
      ],
      "metadata": {
        "id": "JuHY5RwJUxeW"
      }
    },
    {
      "cell_type": "markdown",
      "source": [
        "#Ex7: Number of Distinct Elements\n",
        "* Prompt for a string containing integers in **ascending order** separated by spaces.\n",
        "* Load the values into a list.\n",
        "* Print the number of distinct elements in the list.\n",
        "* Do NOT use the list or string functions or methods for this assignment (except the .split() method).\n",
        "* Do NOT use the for x in y iterator; use for x in range(n)\n",
        "\n",
        "```\n",
        "  Enter Values Separated by Spaces: 1 2 2 3 3 3\n",
        "  Number of Distinct Elements: 3\n",
        "```"
      ],
      "metadata": {
        "id": "QC9sP9DWWjQc"
      }
    },
    {
      "cell_type": "markdown",
      "source": [
        "#Ex8: Swap Neighbors\n",
        "* Prompt for a string containing integers separated by spaces.\n",
        "* Load the values into a list.\n",
        "* Swap adjacent items in pairs (A[0] with A[1], A[2] with A[3], etc.).\n",
        "* Print the resulting list.\n",
        "* If a list has an odd number of elements, leave the last element in place.\n",
        "* Do NOT use the list or string functions or methods for this assignment (except the .split() method).\n",
        "* Do NOT use the for x in y iterator; use for x in range(n)\n",
        "\n",
        "```\n",
        "Enter Values Separated by Spaces: 1 2 3 4 5\n",
        "Swapped Values: 2 1 4 3 5\n",
        "```"
      ],
      "metadata": {
        "id": "Jgg299RfYXK2"
      }
    },
    {
      "cell_type": "markdown",
      "source": [
        "# Ex9: Swap Min and Max\n",
        "* Prompt for a string containing integers separated by spaces.\n",
        "* Load the values into a list.\n",
        "* Swap the minimum and maximum elements in the list.\n",
        "* Do NOT use the list or string functions or methods for this assignment (except the .split() method).\n",
        "* Do NOT use the for x in y iterator; use for x in range(n)\n",
        "\n",
        "```\n",
        "Enter Values Separated by Spaces: 3 4 5 2 1\n",
        "Swapped Minimum and Maximum: 3 4 1 2 5\n",
        "```"
      ],
      "metadata": {
        "id": "KYrsBK-obod1"
      }
    },
    {
      "cell_type": "markdown",
      "source": [
        "#Ex10: Number of Unique Elements\n",
        "* Prompt for a string containing integers separated by spaces.\n",
        "* Load the values into a list.\n",
        "* Find and print the elements that appear in the list only once.\n",
        "* The elements must be printed in the order in which they occur in the original list.\n",
        "* Do NOT use the list or string functions or methods for this assignment (except the .split() method).\n",
        "* Do NOT use the for x in y iterator; use for x in range(n)\n",
        "* **Hint**: Loop through each element of the list, then loop through the list to look for a match. Be\n",
        "sure that you do not match the element to itself.\n",
        "\n",
        "```\n",
        "Enter Values Separated by Spaces: 4 3 5 2 5 1 3 5\n",
        "Unique Elements: 4 2 1\n",
        "```"
      ],
      "metadata": {
        "id": "vSRRUrcFkGjl"
      }
    }
  ]
}