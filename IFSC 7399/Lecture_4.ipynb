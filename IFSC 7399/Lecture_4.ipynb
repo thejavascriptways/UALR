{
  "nbformat": 4,
  "nbformat_minor": 0,
  "metadata": {
    "colab": {
      "provenance": [],
      "toc_visible": true
    },
    "kernelspec": {
      "name": "python3",
      "display_name": "Python 3"
    },
    "language_info": {
      "name": "python"
    }
  },
  "cells": [
    {
      "cell_type": "markdown",
      "source": [
        "# For Loops\n",
        "\n",
        "## Why Do We Need Loops\n",
        "* In the previous lessons we dealt with sequential programs and conditions.\n",
        "* Quite often programs need to repeat some block several times. That's where loops come in handy.\n",
        "* To sum first 5 numbers, for sure you can write something like what you see in the code section.\n",
        "```\n",
        "   isum = 0\n",
        "   isum = isum + 1\n",
        "   isum = isum + 2\n",
        "   isum = isum + 3\n",
        "   isum = isum + 4\n",
        "   isum = isum + 5\n",
        "   print(isum)\n",
        "```\n",
        "\n"
      ],
      "metadata": {
        "id": "o-Fsv-bGZ9Xb"
      }
    },
    {
      "cell_type": "markdown",
      "source": [
        "# The Loop Called FOR\n",
        "* If you have to do fixed amount of operations — say, sum the 100 first numbers — the for loop saves the day.\n",
        "* There are **for** and **while** loop operators in Python, in this lesson we cover for.\n",
        "* **for** loop iterates over any sequence.\n",
        "* Let's see the simplest example of using for.\n",
        "* Same as with if-else, **indentation** is what specifies which instructions are controlled by for and which aren't."
      ],
      "metadata": {
        "id": "9q_EUzU7n55x"
      }
    },
    {
      "cell_type": "code",
      "source": [
        "i=1\n",
        "for color in 'red', 'orange', 'yellow', 'green', 'cyan', 'blue', 'violet':\n",
        "    print('#', i, 'color of rainbow is', color)\n",
        "    i = i + 1"
      ],
      "metadata": {
        "id": "b00QaO5GoMfS"
      },
      "execution_count": null,
      "outputs": []
    },
    {
      "cell_type": "markdown",
      "source": [
        "# You Can Interate Over Different Types:\n",
        "Loop variable can iterate over the objects of different types. In the next example the variable i is pointing to int object for the first three iterations and to str object for the last three iterations:\n",
        "\n"
      ],
      "metadata": {
        "id": "bMzOgwVWoZxR"
      }
    },
    {
      "cell_type": "code",
      "source": [
        "for i in 1, 2, 3, 'one', 'two', 'three':\n",
        "    print(i)"
      ],
      "metadata": {
        "id": "u4A2VERqo71a"
      },
      "execution_count": null,
      "outputs": []
    },
    {
      "cell_type": "markdown",
      "source": [
        "# For Loop With Range\n",
        "* Another use case is to iterate over some integer variable in increasing or decreasing order.\n",
        "* Such a sequence of integers can be created using the function **range(min_value, max_value):** generates a sequence with numbers: min_value, min_value + 1, ..., max_value - 1\n",
        "\n",
        "**Note:** the last number is not included.\n",
        "\n",
        "```\n",
        "for i in range(5, 8):\n",
        "    print(i, i ** 2)\n",
        "print('End of Loop')\n",
        "\n",
        "Output:\n",
        "5 25\n",
        "6 36\n",
        "7 49\n",
        "End of Loop\n",
        "```"
      ],
      "metadata": {
        "id": "wO7mWNd4n4xq"
      }
    },
    {
      "cell_type": "code",
      "source": [
        "for i in range(4,8):\n",
        "    print(i)"
      ],
      "metadata": {
        "id": "DB7SwsvtppO8"
      },
      "execution_count": null,
      "outputs": []
    },
    {
      "cell_type": "markdown",
      "source": [
        "Example: To sum first 5 numbers:"
      ],
      "metadata": {
        "id": "OcuKGED0mevX"
      }
    },
    {
      "cell_type": "code",
      "source": [
        "isum = 0\n",
        "for i in range(1, 6):\n",
        "    isum = isum + i\n",
        "print(isum)"
      ],
      "metadata": {
        "id": "qmVoRon2l--p"
      },
      "execution_count": null,
      "outputs": []
    },
    {
      "cell_type": "markdown",
      "source": [
        "# Range: Calling With One Argument\n",
        "* There's the reduced form of **range()** — `range(max_value)`\n",
        "* That is exactly the same as `range(0, max_value)` , i.e. range(max_value) generates the sequence of numbers :\n",
        "0, 1, 2, ..., max_value - 1.\n",
        "\n",
        "```\n",
        "for i in range(3):\n",
        "    print(i)\n",
        "\n",
        "Output:\n",
        "0\n",
        "1\n",
        "2\n",
        "```\n",
        "\n",
        "\n"
      ],
      "metadata": {
        "id": "9tfTz_Z2dObd"
      }
    },
    {
      "cell_type": "code",
      "source": [
        "x = 4\n",
        "for i in range(x):\n",
        "    print('Hello, world!')"
      ],
      "metadata": {
        "colab": {
          "base_uri": "https://localhost:8080/"
        },
        "id": "2qvhCeZ1sK3c",
        "outputId": "51f3f8f6-73f1-437a-b60b-a028483b30b1"
      },
      "execution_count": null,
      "outputs": [
        {
          "output_type": "stream",
          "name": "stdout",
          "text": [
            "Hello, world!\n",
            "Hello, world!\n",
            "Hello, world!\n",
            "Hello, world!\n"
          ]
        }
      ]
    },
    {
      "cell_type": "markdown",
      "source": [
        "# For Loop Empty Sequence\n",
        "**range()** can define an empty sequence,\n",
        "* range(-5)\n",
        "* range(7, 3) .\n",
        "\n",
        "In the following case the for-block won't be executed:\n",
        "\n",
        "```\n",
        "   for i in range(-5):\n",
        "       print(\"Hello, world!\")\n",
        "   print(\"End of Loop\")\n",
        "\n",
        "Output:\n",
        "End of Loop\n",
        "```\n",
        "\n",
        "   "
      ],
      "metadata": {
        "id": "cqU6yys3eAcE"
      }
    },
    {
      "cell_type": "code",
      "source": [
        "for i in range(-5):\n",
        "    print(\"This won't be printed\")\n",
        "for k in range(8, 6):\n",
        "    print('Nothing will be printed')\n",
        "print(\"End of Loop\")"
      ],
      "metadata": {
        "id": "Xm82tLviqlZH"
      },
      "execution_count": null,
      "outputs": []
    },
    {
      "cell_type": "markdown",
      "source": [
        "# More Complex Example\n",
        "Let's have more complex example and sum the integers from 1 to n inclusively. Pay attention that maximum value in *range()* is **n + 1** to make i equal to n on the last step."
      ],
      "metadata": {
        "id": "N8FCTOG1fkrv"
      }
    },
    {
      "cell_type": "code",
      "source": [
        "result = 0\n",
        "n=5\n",
        "for i in range(1, n + 1):\n",
        "       result += i\n",
        "       # this ^^ is the shorthand for\n",
        "       # result = result + i\n",
        "print(result)"
      ],
      "metadata": {
        "id": "UiYnEjuXf3MW"
      },
      "execution_count": null,
      "outputs": []
    },
    {
      "cell_type": "markdown",
      "source": [
        "# Other Useful Operators in a Range\n",
        "* In the previous program, we've written `result += i` instead of `result = result + i`.\n",
        "* The operators +=, - =, *=, /= are common shortcuts; see the code section."
      ],
      "metadata": {
        "id": "n5pIhx6Rq48k"
      }
    },
    {
      "cell_type": "code",
      "source": [
        "result = 0\n",
        "debt = 1000\n",
        "prod = 1\n",
        "divine = 100\n",
        "n=5\n",
        "for i in range(1, n + 1):\n",
        "    result += i # the same as result = result + i\n",
        "    debt -= i #the same as debt = debt-i\n",
        "    prod *= i #the same as prod = prod*i\n",
        "    divine /= i # the same as divine = divine / i\n",
        "print(result)\n",
        "print(debt)"
      ],
      "metadata": {
        "id": "ZOnf81czrO2f"
      },
      "execution_count": null,
      "outputs": []
    },
    {
      "cell_type": "markdown",
      "source": [
        "# Decreasing Sequence\n",
        "* To iterate over a decreasing sequence, we can use an extended form of range() with three arguments - `range(start_value, end_value, step)` .\n",
        "* When omitted, the step is implicitly equal to 1.\n",
        "* However, can be any non-zero value. The loop always includes **start_value** and excludes **end_value** during iteration:\n"
      ],
      "metadata": {
        "id": "8sWBQ9fSgIhO"
      }
    },
    {
      "cell_type": "code",
      "source": [
        "for i in range(10, 0, -2):\n",
        "    print(i)"
      ],
      "metadata": {
        "id": "T1lajXW5gQuf"
      },
      "execution_count": null,
      "outputs": []
    },
    {
      "cell_type": "markdown",
      "source": [
        "# More About the print() Function\n",
        "* By default, the function **print()** prints all its arguments separating them by a space and the puts a newline symbol after it.\n",
        "* This behavior can be changed using keyword arguments sep (separator) and end. You can specifiy end=\"\" which does not advance to a new line.\n"
      ],
      "metadata": {
        "id": "BPzH6uhhgax7"
      }
    },
    {
      "cell_type": "code",
      "source": [
        "print(1, 2, 3)\n",
        "print(4, 5, 6)\n",
        "\n",
        "print(1, 2, 3, sep=\", \", end=\". \")\n",
        "print(4, 5, 6, sep=\", \", end=\". \")\n",
        "print() # a new line\n",
        "\n",
        "print(1, 2, 3, sep=\"\", end=\" -- \")\n",
        "print(4, 5, 6, sep=\" * \", end=\".\")"
      ],
      "metadata": {
        "id": "Nem6f6E4kWBm"
      },
      "execution_count": null,
      "outputs": []
    },
    {
      "cell_type": "markdown",
      "source": [
        "# Further Reading from the Think Python Book\n",
        "* [Simple Repetition](https://greenteapress.com/thinkpython2/html/thinkpython2005.html#sec43)"
      ],
      "metadata": {
        "id": "3Tow_QODsXXd"
      }
    },
    {
      "cell_type": "markdown",
      "source": [
        "# Ex1: Product of N Numbers\n",
        "* N numbers are given in the input. Read them and print their product.\n",
        "* The first line of input contains the integer N, which is the number of integers to follow.\n",
        "* Each of the next N lines contains one integer.\n",
        "* Print the product of these N integers.\n",
        "\n",
        "**Example output:**\n",
        "\n",
        "```\n",
        "Enter N: 5\n",
        "Enter Number: 4\n",
        "Enter Number: 5\n",
        "Enter Number: 1\n",
        "Enter Number: 3\n",
        "Enter Number: 2\n",
        "120\n",
        "```\n"
      ],
      "metadata": {
        "id": "rxoezvFWsqpJ"
      }
    },
    {
      "cell_type": "markdown",
      "source": [
        "#Ex2: Sum of Cubes\n",
        "* For the given integer N, calculate the sum cubes of each number from 1 to N.\n",
        "* `1**3 + 2**3 + ... + N**3`\n",
        "\n",
        "**Example out**\n",
        "```\n",
        "Enter Number: 5\n",
        "225\n",
        "```"
      ],
      "metadata": {
        "id": "IlhN0UrdtEnw"
      }
    },
    {
      "cell_type": "markdown",
      "source": [
        "# Ex3: Factorial\n",
        "* In mathematics, the factorial of an integer N, denoted by N! is the following product:\n",
        "    * `N! = 1 × 2 × ... × N`\n",
        "* For the given integer N, calculate the value N!\n",
        "* Do NOT use math module in this exercise.\n",
        "\n",
        "```\n",
        "Enter Number: 5\n",
        "120\n",
        "```"
      ],
      "metadata": {
        "id": "OP84VKmYthH9"
      }
    },
    {
      "cell_type": "markdown",
      "source": [
        "# Ex4: Number of Zeros\n",
        "* Given N numbers: the first number in the input is N, after that N integers are given.\n",
        "* Count the number of zeros among the given integers and print it.\n",
        "* You need to count the numbers that are equal to zero, NOT the number of zero digits.\n",
        "\n",
        "```\n",
        "Enter N: 5\n",
        "Enter Number: 0\n",
        "Enter Number: 700\n",
        "Enter Number: 0\n",
        "Enter Number: 200\n",
        "Enter Number: 2\n",
        "\n",
        "Number of Zeros: 2\n",
        "```"
      ],
      "metadata": {
        "id": "GBBYBXG8gWoI"
      }
    },
    {
      "cell_type": "markdown",
      "source": [
        "# Ex5: Sum of Factorials\n",
        "\n",
        "* Given an integer N, print the sum of: 1! + 2! + 3! + ... + N!\n",
        "* This problem has a solution with only one loop, so try to discover it.\n",
        "* Do NOT use the math library.\n",
        "\n",
        "```\n",
        "Enter N: 5\n",
        "Sum of Factorials: 153\n",
        "```\n"
      ],
      "metadata": {
        "id": "BYkq_JAJg124"
      }
    },
    {
      "cell_type": "markdown",
      "source": [
        "# Ex6: Squares in a Range\n",
        "\n",
        "* Given two integers A and B, print squares of all integer numbers between them inclusively as shown below.\n",
        "    * Be sure to print the formula as shown.\n",
        "    * There are no spaces around * and =.\n",
        "    * You can use either the `sep=`  argument of the `print()` statement or the `.format` method.\n",
        "\n",
        "```\n",
        "Enter A: 0\n",
        "Enter B: 10\n",
        "0*0=0\n",
        "1*1=1\n",
        "2*2=4\n",
        "3*3=9\n",
        "4*4=16\n",
        "5*5=25\n",
        "6*6=36\n",
        "7*7=49\n",
        "8*8=64\n",
        "9*9=81\n",
        "10*10=100\n",
        "```"
      ],
      "metadata": {
        "id": "dsM2wVAJhSU8"
      }
    },
    {
      "cell_type": "markdown",
      "source": [
        "# Ex7: Ladder\n",
        "\n",
        "* For given integer N ≤ 9, print a ladder of N steps.\n",
        "* The Kth step consists of the integers from 1 to K without spaces between them.\n",
        "* You can use the sep= and end= arguments of the print() function.\n",
        "* **Hint:** You can use a For loop within a For loop.\n",
        "\n",
        "```\n",
        "  Enter N: 9\n",
        "  1\n",
        "  12\n",
        "  123\n",
        "  1234\n",
        "  12345\n",
        "  123456\n",
        "  1234567\n",
        "  12345678\n",
        "  123456789\n",
        "```"
      ],
      "metadata": {
        "id": "eO3WQVsBicui"
      }
    },
    {
      "cell_type": "markdown",
      "source": [
        "# Ex8: Is Prime\n",
        "* A prime number is a natural number greater than 1 that has no positive divisors other than 1 and itself.\n",
        "* Given an integer N > 1, print PRIME if it's prime and print * COMPOSITE otherwise.\n",
        "* **Hint:** Loop from 2 to (half of N) + 1 and check to see if any number evenly divides into N.\n",
        "\n",
        "```\n",
        "  Enter N: 4\n",
        "  COMPOSITE\n",
        "\n",
        "  Enter N: 5\n",
        "  PRIME\n",
        "```"
      ],
      "metadata": {
        "id": "bYYOG24ziyvi"
      }
    },
    {
      "cell_type": "markdown",
      "source": [
        "# Ex9: Primes In a Range\n",
        "\n",
        "* A prime number is a natural number greater than 1 that has no positive divisors other than 1 and itself.\n",
        "* Given two integers A and B, print all prime numbers between them, inclusively.\n",
        "* **Hint:** Copy your code from the **Is Prime** assignment and modify it so that N varies from A to B.\n",
        "\n",
        "```\n",
        "  Enter A: 2\n",
        "  Enter B: 10\n",
        "  2\n",
        "  3\n",
        "  5\n",
        "  7\n",
        "```"
      ],
      "metadata": {
        "id": "nSkyRefVj3zm"
      }
    },
    {
      "cell_type": "markdown",
      "source": [
        "# Ex10: Lost Card\n",
        "\n",
        "* There was a set of cards with numbers from 1 to N. One of the card is now lost.\n",
        "* Determine the number on that lost card given the numbers for the remaining cards.\n",
        "* **Hint:** This solution has three parts. Suppose you have 10 cards.\n",
        "    * First, sum the values from 1 to 10. This the total value of the cards.\n",
        "    * Next, read each card (there will be 9 of them) and sum of their values.\n",
        "    * Finally, subract the two sums. The difference is the missing card.\n",
        "\n",
        "```\n",
        "  Enter Number of Cards: 5\n",
        "  Enter Card: 1\n",
        "  Enter Card: 2\n",
        "  Enter Card: 4\n",
        "  Enter Card: 5\n",
        "  Missing Card: 3  \n",
        "\n",
        "```"
      ],
      "metadata": {
        "id": "uYBLc0O4kQh-"
      }
    }
  ]
}