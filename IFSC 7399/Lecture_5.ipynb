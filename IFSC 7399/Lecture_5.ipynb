{
 "cells": [
  {
   "cell_type": "markdown",
   "metadata": {
    "id": "PljDTyYzOerS"
   },
   "source": [
    "# WHILE Loop\n",
    "\n",
    "* The while loop repeats the sequence of actions many times until some condition evaluates to False.\n",
    "* The condition is given before the loop body and is checked before each execution of the loop body.\n",
    "* Typically, the while loop is used when it is impossible to determine the exact number of loop iterations in advance.\n",
    "* The syntax of the while loop in the simplest case looks like this:\n",
    "```\n",
    "while some condition:\n",
    "    a block of statements\n",
    "```\n",
    "* Python first checks the condition.\n",
    "    * If it is False, then the loop is terminated and control is passed to the next statement after the while loop body.\n",
    "    * If the condition is True, then the loop body is executed, and then the condition is checked again.\n",
    "    * This continues while the condition is True. Once the condition becomes False, the loop terminates and the program performs instructions that go after the while loop.\n",
    "    \n",
    "* For example, the following program fragment prints the squares of all integers from 1 to 10.\n",
    "    * Here one can replace the **while** loop by the **for ... in range(...) loop:**"
   ]
  },
  {
   "cell_type": "code",
   "execution_count": null,
   "metadata": {
    "id": "xPZ27BJtQOI_"
   },
   "outputs": [],
   "source": [
    "i=1\n",
    "while i <= 10:\n",
    "    print(i ** 2)\n",
    "    i += 1\n",
    "\n"
   ]
  },
  {
   "cell_type": "markdown",
   "metadata": {
    "id": "PskOjpr5Qq50"
   },
   "source": [
    "* In this example, the variable i inside the loop iterates from 1 to 10.\n",
    "* Such a variable whose value changes with each new loop iteration is called a counter.\n",
    "*  **Note** that after executing this fragment the value of the variable i is defined and is equal to 11, because when i == 11 the condition i <= 10 is False for the first time.\n",
    "* Here is another example use of the while loop to determine the number of digits of an integer n:\n"
   ]
  },
  {
   "cell_type": "code",
   "execution_count": null,
   "metadata": {
    "id": "fkYwvrthRDZL"
   },
   "outputs": [],
   "source": [
    "n = int(input())\n",
    "\n",
    "length = 0\n",
    "while n > 0:\n",
    "    n //=10 #this is equivalent to n = n//10\n",
    "    length += 1\n",
    "print(length)"
   ]
  },
  {
   "cell_type": "markdown",
   "metadata": {
    "id": "Vt9e6WDGRoEo"
   },
   "source": [
    "* On each iteration we cut the last digit of the number using integer division by 10 (`n //= 10`). In the variable length we count how many times we did that.\n",
    "\n",
    "* In Python there is another, easier way to solve this problem: length = len(str(i))."
   ]
  },
  {
   "cell_type": "markdown",
   "metadata": {
    "id": "zd3-DVU7R45Y"
   },
   "source": [
    "# Loop Control Flow: Else\n",
    "* One can write an **else:** statement after a loop body which is executed once after the end of the loop:"
   ]
  },
  {
   "cell_type": "code",
   "execution_count": null,
   "metadata": {
    "id": "yJ5doQL2SJ_w"
   },
   "outputs": [],
   "source": [
    "i=1\n",
    "while i <= 10:\n",
    "    print(i)\n",
    "    i += 1\n",
    "else:\n",
    "    print('Loop ended, i =', i)"
   ]
  },
  {
   "cell_type": "markdown",
   "metadata": {
    "id": "4TNyBczIRU5I"
   },
   "source": [
    "* At the first glance, this statement doesn't seem to have sense, because the else: statement body can just be put after the end of the loop.\n",
    "* The **else statement after a loop** only has sense when used in combination with the instruction **break**.\n",
    "    * If during the execution of the loop Python interpreter encounters a **break**, it immediately stops the loop execution and exits out of it.\n",
    "    * In this case, the **else**: branch is not executed. So, a break is used to abort the loop execution during the middle of any iteration.\n",
    "* Here is a Black Jack-like example:\n",
    "    * A program that reads numbers and sums it until the total gets greater or equal to 21. The input sequence ends with 0 for the program to be able to stop even if the total sum of all numbers is less than 21.\n",
    "    * Let's see how it behaves on the different inputs.\n",
    "        * Scenario 1. The loop is **exited normally** after checking the condition, so the else branch is executed.\n",
    "        * Scenario 2. The loop is **aborted by break**, so the else branch is skipped."
   ]
  },
  {
   "cell_type": "code",
   "execution_count": null,
   "metadata": {
    "id": "2yj0YPJKSgzX"
   },
   "outputs": [],
   "source": [
    "total_sum = 0\n",
    "a = int(input())\n",
    "while a != 0:\n",
    "    total_sum += a\n",
    "    if total_sum >= 21:\n",
    "        print('Total sum is', total_sum)\n",
    "        break\n",
    "    a = int(input())\n",
    "else:\n",
    "    print('Total sum is less than 21 and is equal to', total_sum, '.')"
   ]
  },
  {
   "cell_type": "markdown",
   "metadata": {
    "id": "wNdclZ8zyOO7"
   },
   "source": [
    "* Enter the strings \"2\", \"4\", \"7\", \"0\" to the input section, then run the program.\n",
    "* Enter the strings \"9\", \"9\", \"5\" to the input section, then run the program.\n"
   ]
  },
  {
   "cell_type": "markdown",
   "metadata": {
    "id": "ilBCTeu5Whyw"
   },
   "source": [
    "# Else branch can also be used with the for loop.\n",
    "* Let's look at the example when a program reads 5 integers but stops right when the first negative integer is met.\n",
    "    * Scenario 1. The loop is exited normally, so the else branch is executed.\n",
    "    * Scenario 2. The loop is aborted, so the else branch isn't executed."
   ]
  },
  {
   "cell_type": "code",
   "execution_count": null,
   "metadata": {
    "id": "6gxDLZBOWspw"
   },
   "outputs": [],
   "source": [
    "for i in range(5):\n",
    "    a = int(input())\n",
    "    if a < 0:\n",
    "        print('Met a negative number', a)\n",
    "        break\n",
    "else:\n",
    "    print('No negative numbers met')"
   ]
  },
  {
   "cell_type": "markdown",
   "metadata": {
    "id": "0tjx2LQsydD2"
   },
   "source": [
    "* Enter the strings \"3\", \"6\", \"2\", \"4\", \"5\" to the input section, then run the program.\n",
    "* Enter the strings \"3\", \"6\", \"-2\", \"4\", \"5\" to the input section, then run the program."
   ]
  },
  {
   "cell_type": "markdown",
   "metadata": {
    "id": "aGeHMx0UW5QR"
   },
   "source": [
    "# Loop Control Flow: Continue\n",
    "* Another instruction used to control the loop execution is **continue**.\n",
    "* If Python interpreter meets **continue** somewhere in the middle of the loop iteration, it skips all the remaining instructions and proceeds to the next iteration."
   ]
  },
  {
   "cell_type": "code",
   "execution_count": null,
   "metadata": {
    "id": "m1c_zZZBDf_7"
   },
   "outputs": [],
   "source": [
    "for num in range(2, 10):\n",
    "    if num % 2 == 0:\n",
    "        print(\"Found an even number\", num)\n",
    "        continue\n",
    "    print(\"Found an odd number\", num)"
   ]
  },
  {
   "cell_type": "markdown",
   "metadata": {
    "id": "HYOHi9f9D15a"
   },
   "source": [
    "# Break and Continue Exit Only the Innermost Loop\n",
    "\n",
    "If the **break** and **continue** are placed inside several nested loops, they affect only the execution of the innermost one. Let's look at rather silly example to demonstrate it:"
   ]
  },
  {
   "cell_type": "code",
   "execution_count": null,
   "metadata": {
    "id": "KI-Dvf_SD6RT"
   },
   "outputs": [],
   "source": [
    "for i in range(3):\n",
    "    for j in range(5):\n",
    "        if j > i:\n",
    "            # breaks only the for on line 2\n",
    "            break\n",
    "        print(i, j)"
   ]
  },
  {
   "cell_type": "markdown",
   "metadata": {
    "id": "EdJxnO5vELD6"
   },
   "source": [
    "# Careful When Using Break and Continue\n",
    "\n",
    "* The instructions **break** and **continue** are discouraged, if you can implement your idea without using them.\n",
    "* Here is a typical example of a bad usage of the break: this code counts the number of digits in an integer.\n"
   ]
  },
  {
   "cell_type": "code",
   "execution_count": null,
   "metadata": {
    "id": "VJgHPDeWETNE"
   },
   "outputs": [],
   "source": [
    "n = int(input())\n",
    "length = 0\n",
    "\n",
    "while True:\n",
    "    length += 1\n",
    "    n //= 10\n",
    "\n",
    "    if n == 0:\n",
    "         break\n",
    "print('Length is', length)"
   ]
  },
  {
   "cell_type": "markdown",
   "metadata": {
    "id": "cjgQ9QFdE5HE"
   },
   "source": [
    "* It's cleaner and easier-to-read to rewrite this loop with a meaningful loop condition:\n"
   ]
  },
  {
   "cell_type": "code",
   "execution_count": null,
   "metadata": {
    "id": "qNGvgbuJE9zk"
   },
   "outputs": [],
   "source": [
    "n = int(input())\n",
    "length = 0\n",
    "\n",
    "while n!= 0:\n",
    "    length += 1\n",
    "    n //= 10\n",
    "23\n",
    "\n",
    "print('Length is', length)"
   ]
  },
  {
   "cell_type": "markdown",
   "metadata": {
    "id": "K_sLB5KVFLpo"
   },
   "source": [
    "# Multiple Assignment\n",
    "* In Python it is possible for a single assignment statement to change the value of several variables. Let's see:\n",
    "`a, b = 0, 1`\n",
    "\n",
    "The effect demonstrated above code can be written as:\n",
    "```\n",
    " a = 0\n",
    " b = 1\n",
    "```\n",
    "* The difference between the two versions is that multiple assignment changes the values of two variables simultaneously.\n"
   ]
  },
  {
   "cell_type": "code",
   "execution_count": null,
   "metadata": {
    "id": "cE-0DCT2zyPE"
   },
   "outputs": [],
   "source": [
    "a, b = 0, 1\n",
    "print(a,b)\n",
    "\n",
    "# this does the same as above\n",
    "a = 0\n",
    "b = 1\n",
    "print(a,b)"
   ]
  },
  {
   "cell_type": "markdown",
   "metadata": {
    "id": "HQUbqqAgz7Yw"
   },
   "source": [
    "# Multiple Assignments and Swapping Values\n",
    "* Multiple assignment is useful when you need to exchange the values of two variables.\n",
    "* In older programming languages without the support of multiple assignment this can be done using the auxiliary variable:"
   ]
  },
  {
   "cell_type": "code",
   "execution_count": null,
   "metadata": {
    "id": "IhmjISD2GCfR"
   },
   "outputs": [],
   "source": [
    "a = 1\n",
    "b = 2\n",
    "tmp = a\n",
    "a = b\n",
    "b = tmp\n",
    "print(a, b)"
   ]
  },
  {
   "cell_type": "markdown",
   "metadata": {
    "id": "qZ2ooniQGRB_"
   },
   "source": [
    "In Python, the same swap can be written in one line:"
   ]
  },
  {
   "cell_type": "code",
   "execution_count": null,
   "metadata": {
    "id": "JoXCVZtWGSil"
   },
   "outputs": [],
   "source": [
    "a = 1\n",
    "b = 2\n",
    "a, b = b, a\n",
    "print(a, b)"
   ]
  },
  {
   "cell_type": "markdown",
   "metadata": {
    "id": "3KHOi14jGepC"
   },
   "source": [
    "* The left-hand side of \"=\" should have a comma-separated list of variable names.\n",
    "* The right-hand side can be any expressions, separated by commas.\n",
    "* The left-hand side and the right-hand side lists should be of equal length."
   ]
  },
  {
   "cell_type": "markdown",
   "metadata": {
    "id": "tzG0q4T5GkFa"
   },
   "source": [
    "# Random Numbers\n",
    "Random numbers are often used to simulate game playing. Python has two functions to generate random numbers.\n"
   ]
  },
  {
   "cell_type": "markdown",
   "metadata": {
    "id": "FRBFIhcMGphU"
   },
   "source": [
    "## Random Integers\n",
    "* You can import the **randint** function from the random library.\n",
    "* In the randint function, you provide a range for the random integers.\n",
    "* If you want to simulate roling of a dice with 6 sides, you would use:"
   ]
  },
  {
   "cell_type": "code",
   "execution_count": null,
   "metadata": {
    "id": "Piv6SAS5GxB6"
   },
   "outputs": [],
   "source": [
    "from random import randint\n",
    "\n",
    "x = randint(1,6) # which would give you a random value between 1 and 6 inclusive\n",
    "print(x)"
   ]
  },
  {
   "cell_type": "markdown",
   "metadata": {
    "id": "C90Mb5SiHAiD"
   },
   "source": [
    "## Random Floating Point Numbers\n",
    "* Sometimes you need a random multiplier, which is a random floating point number between 0 and 1.\n",
    "* This is generated using the **random** function with no arguments, which is imported from the random library.\n"
   ]
  },
  {
   "cell_type": "code",
   "execution_count": null,
   "metadata": {
    "id": "dkf9rWF2HjpE"
   },
   "outputs": [],
   "source": [
    "from random import random\n",
    "\n",
    "x = random()\n",
    "print(x)"
   ]
  },
  {
   "cell_type": "markdown",
   "metadata": {
    "id": "hrMZkmyI0cTw"
   },
   "source": [
    "# Further Reading from the Think Python Book\n",
    "* [While Statement](https://greenteapress.com/thinkpython2/html/thinkpython2008.html#sec84)"
   ]
  },
  {
   "cell_type": "markdown",
   "metadata": {
    "id": "si6w3sO90s5B"
   },
   "source": [
    "# Ex1: Sum of Sequence\n",
    "\n",
    "* Prompt for a sequence of numbers, the last number being zero.\n",
    "* Print the sum of the numbers.\n",
    "\n",
    "```\n",
    "  Enter a Number (zero to quit): 1\n",
    "  Enter a Number (zero to quit): 7\n",
    "  Enter a Number (zero to quit): 9\n",
    "  Enter a Number (zero to quit): 0\n",
    "  Sum: 17\n",
    "```"
   ]
  },
  {
   "cell_type": "markdown",
   "metadata": {
    "id": "o1spANmS1LpA"
   },
   "source": [
    "# Ex2: Average Of Sequence\n",
    "* Prompt for a sequence of numbers, the last number being zero\n",
    "* Print the average of the numbers\n",
    "* If no data is entered (only a zero was entered), you will generate an error (division by zero). If no data is entered, print \"Sequence Length is 0\".\n",
    "\n",
    "```\n",
    "  Enter a Number (zero to quit): 1\n",
    "  Enter a Number (zero to quit): 7\n",
    "  Enter a Number (zero to quit): 9\n",
    "  Enter a Number (zero to quit): 0\n",
    "  Average: 5.666666666666667\n",
    "\n",
    "\n",
    "  Enter a Number (zero to quit): 0\n",
    "  Sequence Length is 0\n",
    "\n",
    "```"
   ]
  },
  {
   "cell_type": "markdown",
   "metadata": {
    "id": "km88jv_k3oW3"
   },
   "source": [
    "# Ex3: Maximum of Sequence\n",
    "* Prompt for a sequence of numbers, the last number being zero.\n",
    "* Print the largest value of the numbers.\n",
    "\n",
    "```\n",
    "  Enter a Number (zero to quit): 1\n",
    "  Enter a Number (zero to quit): 9\n",
    "  Enter a Number (zero to quit): 7\n",
    "  Enter a Number (zero to quit): 0\n",
    "  Maximum: 9\n",
    "```"
   ]
  },
  {
   "cell_type": "markdown",
   "metadata": {
    "id": "dGtxm4J-35CH"
   },
   "source": [
    "# Ex4: Index of Maximum\n",
    "* Prompt for a sequence of numbers, the last number being zero\n",
    "* Print largest value and the index the largest value of the numbers.\n",
    "* If no numbers are entered (only a zero), then both the maximum and the index should be 0.\n",
    "\n",
    "```\n",
    "  Enter a Number (zero to quit): 1\n",
    "  Enter a Number (zero to quit): 9\n",
    "  Enter a Number (zero to quit): 7\n",
    "  Enter a Number (zero to quit): 0\n",
    "  Maximum: 9\n",
    "  Index of Maximum: 2\n",
    "  \n",
    "  Enter a Number (zero to quit): 0\n",
    "  Maximum: 0\n",
    "  Index of Maximum: 0\n",
    "\n",
    "```"
   ]
  },
  {
   "cell_type": "markdown",
   "metadata": {
    "id": "OJj4OGtN4M0_"
   },
   "source": [
    "# Ex5: Number of Even Values\n",
    "* Prompt for a sequence of numbers, the last number being zero.\n",
    "* Print the number of even values.\n",
    "\n",
    "```\n",
    "  Enter a Number (zero to quit): 2\n",
    "  Enter a Number (zero to quit): 1\n",
    "  Enter a Number (zero to quit): 4\n",
    "  Enter a Number (zero to quit): 0\n",
    "  Number of Even Values:\n",
    "\n",
    "```"
   ]
  },
  {
   "cell_type": "markdown",
   "metadata": {
    "id": "gX17cDUk4trS"
   },
   "source": [
    "# Ex6: Elements Greater Than Previous\n",
    "* Prompt for a sequence of numbers, the last number being zero.\n",
    "* Print the number many elements of this sequence are greater than their previous neighbor.\n",
    "\n",
    "```\n",
    "  Enter a Number (zero to quit): 1\n",
    "  Enter a Number (zero to quit): 5\n",
    "  Enter a Number (zero to quit): 2\n",
    "  Enter a Number (zero to quit): 4\n",
    "  Enter a Number (zero to quit): 3\n",
    "  Enter a Number (zero to quit): 0\n",
    "  Number of Values Greater Than the Previous: 2\n",
    "```\n"
   ]
  },
  {
   "cell_type": "markdown",
   "metadata": {
    "id": "SV6FT14tPDoM"
   },
   "source": [
    "# Ex7: Second Maximum\n",
    "\n",
    "* Prompt for a sequence of numbers, the last number being zero.\n",
    "* Print the maximum and second maximum of the sequence.\n",
    "* Assume that at least two numbers will always be entered.\n",
    "* **Hint**: Each time you find a new maximum, the old maximum becomes the second maximum.\n",
    "\n",
    "```\n",
    "  Enter First Number: 1\n",
    "  Enter Second Number: 9\n",
    "  Enter a Number (zero to quit): 2\n",
    "  Enter a Number (zero to quit): 3\n",
    "  Enter a Number (zero to quit): 4\n",
    "  Enter a Number (zero to quit): 5\n",
    "  Enter a Number (zero to quit): 6\n",
    "  Enter a Number (zero to quit): 7\n",
    "  Enter a Number (zero to quit): 8\n",
    "  Enter a Number (zero to quit): 10\n",
    "  Enter a Number (zero to quit): 0\n",
    "  First Maximum: 10\n",
    "  Second Maximum: 9\n",
    "```\n"
   ]
  },
  {
   "cell_type": "markdown",
   "metadata": {
    "id": "pw0sJJ4FQJP3"
   },
   "source": [
    "#Ex8: Elements Equal to Maximum\n",
    "* Prompt for a sequence of numbers, the last number being zero.\n",
    "* Print the maximum value and the number of times it occurs.\n",
    "\n",
    "```\n",
    "  Enter a Number (zero to quit): 1\n",
    "  Enter a Number (zero to quit): 2\n",
    "  Enter a Number (zero to quit): 3\n",
    "  Enter a Number (zero to quit): 2\n",
    "  Enter a Number (zero to quit): 3\n",
    "  Enter a Number (zero to quit): 3\n",
    "  Enter a Number (zero to quit): 3\n",
    "  Enter a Number (zero to quit): 0\n",
    "  Maximum: 3\n",
    "  Number of Occurrences : 4\n",
    "\n",
    "```"
   ]
  },
  {
   "cell_type": "markdown",
   "metadata": {
    "id": "2WTEfYOoQhVY"
   },
   "source": [
    "# Ex9: Fibonacci Numbers\n",
    "* The Fibonacci sequence is defined as the sum of the previous two numbers in the sequence. The sequence begins with 0 and 1. The sequence is:\n",
    "    * #0 - 0 (Always 0) #1 - 1 (Always 1) #2 - 1 (0+1)\n",
    "    * #3 - 2 (1+1)\n",
    "    * #4 - 3 (2+1)\n",
    "    * #5 - 5 (3+2)\n",
    "    * #6 - 8 (5+3)\n",
    "    * #7 - 13 (8+5)\n",
    "    * #8 - 21 (13+8)\n",
    "    * #9 - 34 (13+21)\n",
    "    * #10 - 55 (21+34)\n",
    "* Prompt for and display the **nth** Fibonacci number.\n",
    "* Do NOT use the Golden Ratio formula or recursion...**use a loop**.\n",
    "\n",
    "```\n",
    "  Enter Fibonnaci Sequence Number: 7\n",
    "  Fibonacci Number: 13\n",
    "\n",
    "  Enter Fibonnaci Sequence Number: 4\n",
    "  Fibonacci Number: 3\n",
    "  \n",
    "  Enter Fibonnaci Sequence Number: 10\n",
    "  Fibonacci Number: 55\n",
    "```\n"
   ]
  },
  {
   "cell_type": "markdown",
   "metadata": {
    "id": "arD9tnAv6Q4b"
   },
   "source": [
    "# Ex10: Consecutive Equal Elements\n",
    "* Prompt for a sequence of numbers, the last number being zero.\n",
    "* Print the maximum number of consecutive equal elements.\n",
    "* If a value repeats the same number of times, display the first value.\n",
    "```\n",
    "  Enter a Number (zero to quit): 1\n",
    "  Enter a Number (zero to quit): 7\n",
    "  Enter a Number (zero to quit): 7\n",
    "  Enter a Number (zero to quit): 9\n",
    "  Enter a Number (zero to quit): 1\n",
    "  Enter a Number (zero to quit): 0\n",
    "  7 repeated 2 times\n",
    "```\n"
   ]
  }
 ],
 "metadata": {
  "colab": {
   "provenance": [],
   "toc_visible": true
  },
  "kernelspec": {
   "display_name": "Python 3",
   "language": "python",
   "name": "python3"
  },
  "language_info": {
   "codemirror_mode": {
    "name": "ipython",
    "version": 3
   },
   "file_extension": ".py",
   "mimetype": "text/x-python",
   "name": "python",
   "nbconvert_exporter": "python",
   "pygments_lexer": "ipython3",
   "version": "3.7.7"
  }
 },
 "nbformat": 4,
 "nbformat_minor": 1
}
