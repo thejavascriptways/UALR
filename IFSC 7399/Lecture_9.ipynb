{
  "nbformat": 4,
  "nbformat_minor": 0,
  "metadata": {
    "colab": {
      "provenance": [],
      "toc_visible": true
    },
    "kernelspec": {
      "name": "python3",
      "display_name": "Python 3"
    },
    "language_info": {
      "name": "python"
    }
  },
  "cells": [
    {
      "cell_type": "markdown",
      "source": [
        "# Two Dimensional Lists\n",
        "* Often, tasks have to store rectangular data table.\n",
        "* Such tables are called matrices or two-dimensional arrays.\n",
        "* In Python any table can be represented as a list of lists (a list, where each element is in turn a list).\n",
        "* For example, here's the program that creates a numerical table with two rows and three columns, and then makes some manipulations with it"
      ],
      "metadata": {
        "id": "Q2MKEwe0YViw"
      }
    },
    {
      "cell_type": "code",
      "source": [
        "a = [1, 2, 3]\n",
        "b = [4,5]\n",
        "c = [6,7,8]\n",
        "d = []\n",
        "d.append(a)\n",
        "d.append(b)\n",
        "d.append(c)\n",
        "print (d)\n",
        "\n",
        "print(d[0])\n",
        "print(d[1])\n",
        "print(d[2])\n",
        "\n",
        "print(d[0][0])\n",
        "print(d[0][1])\n",
        "print(d[0][2])\n",
        "\n",
        "print(d[1][0])\n",
        "print(d[1][1])\n",
        "print(d[2][0])\n",
        "print(d[2][1])\n",
        "print(d[2][2])\n",
        "\n",
        "# Change element values\n",
        "d[0][0] = 10\n",
        "d[0][1] = 11\n",
        "d[0][2] = 12\n",
        "\n",
        "\n",
        "print(d[0][0])\n",
        "print(d[0][1])\n",
        "print(d[0][2])\n",
        "print(d)"
      ],
      "metadata": {
        "id": "Sp7AT_j-YrzG"
      },
      "execution_count": null,
      "outputs": []
    },
    {
      "cell_type": "markdown",
      "source": [
        "The first element — `d[0]` — is a list of numbers `[1, 2, 3]`. The elements of the two dimensional array are:\n",
        "```\n",
        "d[0][0] == 1\n",
        "d[0][1] == 2\n",
        "d[0][2] == 3\n",
        "d[1][0] == 4\n",
        "d[1][1] == 5\n",
        "d[2][0] == 6\n",
        "d[2][1] == 7\n",
        "d[2][2] == 8\n",
        "```\n",
        "Note that if you try to access `d[1][2]`, you will get an index out of range error, because the element does not exist."
      ],
      "metadata": {
        "id": "gpOAbD_B2rhk"
      }
    },
    {
      "cell_type": "markdown",
      "source": [
        "# Initializing a Two Dimensional Array\n",
        "Suppose that two numbers are given: the number of rows of **n** and the number of columns **m**. You must create a list of size **n×m**, filled with zeros. You can do this by appending a list with a lenght of **m**."
      ],
      "metadata": {
        "id": "IZu0zQN83LrF"
      }
    },
    {
      "cell_type": "code",
      "source": [
        "n=3\n",
        "m=4\n",
        "a = []\n",
        "for i in range(n):\n",
        "    a.append([0] * m)\n",
        "print(a)"
      ],
      "metadata": {
        "colab": {
          "base_uri": "https://localhost:8080/"
        },
        "id": "3mxIh5MX3tqE",
        "outputId": "34cb928c-b3e7-4899-d2f7-e31706c2ca73"
      },
      "execution_count": null,
      "outputs": [
        {
          "output_type": "stream",
          "name": "stdout",
          "text": [
            "[[0, 0, 0, 0], [0, 0, 0, 0], [0, 0, 0, 0]]\n"
          ]
        }
      ]
    },
    {
      "cell_type": "markdown",
      "source": [
        "# Creating a Two Dimensional List\n",
        "* An example of reading data from a file and loading it into an array.\n",
        "* Copy, paste and save the file below as NumbersList.txt.\n",
        "```\n",
        "1 2 3 4\n",
        "5 6\n",
        "7 8 9\n",
        "```"
      ],
      "metadata": {
        "id": "iAWDO5I18dlJ"
      }
    },
    {
      "cell_type": "markdown",
      "source": [
        "# Mount google drive"
      ],
      "metadata": {
        "id": "mb4UPiCPlzyj"
      }
    },
    {
      "cell_type": "code",
      "source": [
        "from google.colab import drive\n",
        "drive.mount('/content/drive')"
      ],
      "metadata": {
        "colab": {
          "base_uri": "https://localhost:8080/"
        },
        "id": "Z9iOBbCmB-tz",
        "outputId": "cb59eb29-dd62-47b1-f21d-5c4527955698"
      },
      "execution_count": null,
      "outputs": [
        {
          "output_type": "stream",
          "name": "stdout",
          "text": [
            "Mounted at /content/drive\n"
          ]
        }
      ]
    },
    {
      "cell_type": "code",
      "source": [
        "# Create a list\n",
        "a = []\n",
        "\n",
        "fileName = \"/content/drive/MyDrive/IFSC4399_5399_Data_Fundamentals/NumbersList.txt\"\n",
        "numbersfile = open(fileName)\n",
        "x = numbersfile.readline()\n",
        "\n",
        "while x != \"\":\n",
        "    # Split the line into a list\n",
        "    y = x.split(\" \")\n",
        "\n",
        "    # Convert the values from string to an integer\n",
        "    for i in range(len(y)):\n",
        "         y[i] = int(y[i])\n",
        "    # Append the list to the two dimensional list\n",
        "    a.append(y)\n",
        "\n",
        "    # Read the next line\n",
        "    x = numbersfile.readline()\n",
        "\n",
        "# Loop through each row in the two dimensional array\n",
        "print(\"length is {}\".format(len(a)))\n",
        "for i in range(len(a)):\n",
        "# Loop though each element in the list\n",
        "    for j in range(len(a[i])): # Print each element in the list\n",
        "        print(a[i][j], end=' ')\n",
        "\n",
        "    # End of list - go to next line\n",
        "    print()"
      ],
      "metadata": {
        "colab": {
          "base_uri": "https://localhost:8080/"
        },
        "id": "wYRK2pwK_Rmf",
        "outputId": "4adc3590-0e97-4fb8-c7b2-f313c3494510"
      },
      "execution_count": null,
      "outputs": [
        {
          "output_type": "stream",
          "name": "stdout",
          "text": [
            "length is 3\n",
            "1 2 3 4 \n",
            "5 6 \n",
            "7 8 9 \n"
          ]
        }
      ]
    },
    {
      "cell_type": "markdown",
      "source": [
        "# Processing a Two Dimensional List\n",
        "* To process 2-dimensional list, you typically use nested loops.\n",
        "* The first loop iterates through the row number, the second loop runs through the elements inside of a row.\n",
        "* For example, that's how you display two-dimensional numerical list on the screen line by line, separating the numbers with spaces.\n",
        "*  Notice how you use the `len(a)`, which is the number of rows in the list, and `len(a[i]`), which is the number of elements in that particular row:"
      ],
      "metadata": {
        "id": "dWwgOmFREPDQ"
      }
    },
    {
      "cell_type": "code",
      "source": [
        "a = [[1, 2, 3, 4], [5, 6], [7, 8, 9]]\n",
        "for i in range(len(a)):\n",
        "    for j in range(len(a[i])):\n",
        "         print(a[i][j], end=' ')\n",
        "    print()"
      ],
      "metadata": {
        "id": "n7NFKI9PE786"
      },
      "execution_count": null,
      "outputs": []
    },
    {
      "cell_type": "markdown",
      "source": [
        "This is how you can use 2 nested loops to calculate the sum of all the numbers in the 2-dimensional list:"
      ],
      "metadata": {
        "id": "vBc-lr5hFJvB"
      }
    },
    {
      "cell_type": "code",
      "source": [
        "a = [[1, 2, 3, 4], [5, 6], [7, 8, 9]]\n",
        "s=0\n",
        "for i in range(len(a)):\n",
        "    for j in range(len(a[i])):\n",
        "        s += a[i][j]\n",
        "\n",
        "print(\"The sum is: {}\".format(s))"
      ],
      "metadata": {
        "colab": {
          "base_uri": "https://localhost:8080/"
        },
        "id": "XrxVuXR4FOZn",
        "outputId": "28c08408-f174-4b37-ee2d-b0cdfdf5e2e5"
      },
      "execution_count": null,
      "outputs": [
        {
          "output_type": "stream",
          "name": "stdout",
          "text": [
            "The sum is: 45\n"
          ]
        }
      ]
    },
    {
      "cell_type": "markdown",
      "source": [
        "## Print Snowflake"
      ],
      "metadata": {
        "id": "WSBDuZWLGkzI"
      }
    },
    {
      "cell_type": "code",
      "source": [
        "# Input the size of the snowflake\n",
        "n = int(input(\"Enter the size of the snowflake:\"))\n",
        "# Create the list - initialize with a space\n",
        "a = []\n",
        "\n",
        "for i in range(n):\n",
        "    a.append([' '] * n)\n",
        "\n",
        "# Loop through the array by column\n",
        "for i in range(n):\n",
        "    # left to right diagonal\n",
        "        a[i][i] = '*' # middle row\n",
        "        a[n // 2][i] = '*' # middle column\n",
        "        a[i][n // 2] = '*' # right to left diagonal\n",
        "        a[i][n - i - 1] = '*' # print the snowflake\n",
        "\n",
        "for i in range(len(a)):\n",
        "    for j in range(len(a[i])):\n",
        "        print(a[i][j], end=' ')\n",
        "    print()"
      ],
      "metadata": {
        "id": "IBTEB--bG3H4"
      },
      "execution_count": null,
      "outputs": []
    },
    {
      "cell_type": "markdown",
      "source": [
        "#Ex1: Maximum of a Two Dimensional List\n",
        "* Given two integers representing the rows and columns **(m×n)**, and subsequent **m** rows of **n** elements\n",
        "    * Input the number of rows and columns in the list\n",
        "    * Input the array\n",
        "    * Print the array.\n",
        "    * Find the index position of the maximum element and print two numbers representing the index **(i×j)** or the row number and the column number. If there exist multiple such elements in different rows, print the one with smaller row number. If there multiple such elements occur on the same row, output the smallest column number.\n",
        "\n",
        "```   \n",
        "Enter the number of rows and columns: 3 4\n",
        "Enter a line of data: 0 3 2 4\n",
        "Enter a line of data: 2 3 5 5\n",
        "Enter a line of data: 5 1 2 3\n",
        "0 3 2 4\n",
        "2 3 5 5\n",
        "5 1 2 3\n",
        "The maximum value 5 occurred in row 1 column 2\n",
        "```"
      ],
      "metadata": {
        "id": "3lboGwbNJ8Qk"
      }
    },
    {
      "cell_type": "markdown",
      "source": [
        "#Ex2: Swap Columns\n",
        "* Create a function called `print_list(a)` , where a is a two dimensional list. The function should print the list row by row, with one space between each element\n",
        "* Create a function called `swap_columns(a, i, j)` that will swap the columns **i** and **j** in list **a**, where\n",
        "    * a is a two dimensional list\n",
        "    * i and j are the numbers of columns to be swapped\n",
        "* Read the values in the file *NumbersList.txt* into an two dimensional list.\n",
        "* Print the list by calling print_list(a) .\n",
        "* Prompt for the column numbers in the list to swap by calling\n",
        "* Print the list with the swapped columns by calling\n",
        "\n",
        "Copy, paste and save the file below as **NumbersList2.txt**\n",
        "```\n",
        "11 12 13 14 15 16\n",
        "21 22 23 24 25 26\n",
        "31 32 33 34 35 36\n",
        "41 42 43 44 45 46\n",
        "```\n",
        "\n",
        "** Example Output **\n",
        "```\n",
        "11 12 13 14 15 16\n",
        "21 22 23 24 25 26\n",
        "31 32 33 34 35 36\n",
        "41 42 43 44 45 46\n",
        "Enter the columns to swap: 0 5\n",
        "16 12 13 14 15 11\n",
        "26 22 23 24 25 21\n",
        "36 32 33 34 35 31\n",
        "46 42 43 44 45 41\n",
        "```"
      ],
      "metadata": {
        "id": "IMlU2OiPMU2q"
      }
    },
    {
      "cell_type": "markdown",
      "source": [
        "#Ex3: Scale a Two Dimensional List\n",
        "* Create a function called `print_list(a)`, where `a` is a two dimensional list. The function should print the list row by row, with one space between each element\n",
        "* Create a function called `scale_list(a, s)` that multiplies every value in the list by the scale factor, where\n",
        "    * **a** is a two dimensional list\n",
        "    * **s** is the scale factor\n",
        "* Read the values in the file *NumbersList.txt* into a two dimensional array\n",
        "* Print the list by calling print_list(a) .\n",
        "* Prompt for a scale factor.\n",
        "* Multiply every value in the list by the scale factor using a function called `scaled_list(a, s)` .\n",
        "* Print the scaled list by calling `print_list(a)`.\n",
        "\n",
        "Copy, paste and save the file below as **NumbersList3.txt**\n",
        "```\n",
        "11 12\n",
        "21 22 23\n",
        "31 32 33 34\n",
        "```\n",
        "**Example Output**\n",
        "```\n",
        "11 12\n",
        "21 22 23\n",
        "31 32 33 34\n",
        "Enter scale value: 2\n",
        "22 24\n",
        "42 44 46\n",
        "62 64 66 68\n",
        "```"
      ],
      "metadata": {
        "id": "XvTQXr9QOIB1"
      }
    },
    {
      "cell_type": "markdown",
      "source": [
        "#Ex4: Unit Conversion\n",
        "* Create a python program that performs unit conversions. You code should do the following:\n",
        "    * Prompt for a floating point number (FromValue). Your prompt should display \"Enter From Value: \"\n",
        "    * Prompt for the unit to convert from (FromUnit). Your prompt should display \"Enter From Unit (mm, cm, m, km, in, yd, mi):\"\n",
        "    * Prompt for the unit to convert to (ToUnit). Your prompt should display \"Enter To Unit (mm, cm, m, km, in, yd, mi):\"\n",
        "    * Open the file *Conversion.txt* file and read it into a 2 dimensional list.\n",
        "        * The first row contains the names of the valid ToUnits.\n",
        "        * The first column contains the names of the valid FromUnits.\n",
        "    * Using a FOR loop, seach for a match between the entered FromUnit and the first column. Save the index of the row that you find the match.\n",
        "    * If no match was found for the FromUnit, then print \"FromUnit is not valid\" and exit the program\n",
        "    * Using a FOR loop, seach for a match between the entered ToUnit and the first row. Save the index of the column that you find the match.\n",
        "    * If no match was found for the ToUnit, then print \"ToUnit is not valid\" and exit the program\n",
        "    * Using the index, get the multiplier from the 2D list, multiply it by the FromValue, round to 7 digits, and displays the result as shown.\n",
        "\n",
        "Download *Conversion.txt* from Blackboard and save to your google drive\n",
        "\n"
      ],
      "metadata": {
        "id": "DUPQJ1wd4b5B"
      }
    },
    {
      "cell_type": "code",
      "source": [
        "from IPython import display\n",
        "display.Image(\"/content/drive/MyDrive/IFSC4399_5399_Data_Fundamentals/CoversionTable.png\")"
      ],
      "metadata": {
        "colab": {
          "base_uri": "https://localhost:8080/",
          "height": 252
        },
        "id": "Ezc1RcV5LBRc",
        "outputId": "3ed6673b-a70d-4c40-df96-a9cf4c529023"
      },
      "execution_count": 30,
      "outputs": [
        {
          "output_type": "execute_result",
          "data": {
            "image/png": "[encoded data removed]",
            "text/plain": [
              "<IPython.core.display.Image object>"
            ]
          },
          "metadata": {},
          "execution_count": 30
        }
      ]
    },
    {
      "cell_type": "markdown",
      "source": [
        "\n",
        "**Test cases:**\n",
        "Your answer may be slightly different due to rounding.\n",
        "```\n",
        "Enter From Value: 36\n",
        "Enter From Unit (mm, cm, m, km, in, yd, mi): in\n",
        "Enter To Unit (mm, cm, m, km, in, yd, mi): yd\n",
        "36.0 in => 1.0 yd\n",
        "\n",
        "\n",
        "Enter From Value: 10000\n",
        "Enter From Unit (mm, cm, m, km, in, yd, mi): ft\n",
        "Enter To Unit (mm, cm, m, km, in, yd, mi): mi\n",
        "10000.0 ft => 1.8939394 mi\n",
        "\n",
        "Enter From Value: 100\n",
        "Enter From Unit (mm, cm, m, km, in, yd, mi): yd\n",
        "Enter To Unit (mm, cm, m, km, in, yd, mi): ft\n",
        "100.0 yd => 300.0 ft\n",
        "```"
      ],
      "metadata": {
        "id": "Tcf7c5NSK7rz"
      }
    },
    {
      "cell_type": "markdown",
      "source": [
        "#Ex5: Checkerboard\n",
        "\n",
        "* Create a python program the creates a checkerboard pattern as shown.\n",
        "* You should prompt for the size of the board (minus the frame).\n",
        "* Create the checkerboard within a 2D list and print it out. Your solution should work for mulitple sizes.\n",
        "* **Hints:**\n",
        "    * Prompt to the size of the board (n)\n",
        "    * Create an empty 2D List\n",
        "    * Append the top of the board, consisting of an plus sign, n dashes, and a plus sign\n",
        "    * For **n** times, append interior rows, consisting of a vertical bar, n spaces, and a vertical bar\n",
        "    * Append the bottom of the board, consisting of an plus sign, n dashes, and a plus sign\n",
        "    * Loop through the interior rows and columns; set the element to an asterisk if the column and row index are even/odd or odd/event\n",
        "    * Loop through the entire board and and print the values.\n",
        "\n",
        "**Example Output**\n",
        "```       \n",
        "Enter Size: 5\n",
        "+-----+\n",
        "| * * |\n",
        "|* * *|\n",
        "| * * |\n",
        "|* * *|\n",
        "| * * |\n",
        "+-----+\n",
        "    \n",
        "Enter Size: 10\n",
        "+----------+\n",
        "| * * * * *|\n",
        "|* * * * * |\n",
        "| * * * * *|\n",
        "|* * * * * |\n",
        "| * * * * *|\n",
        "|* * * * * |\n",
        "| * * * * *|\n",
        "|* * * * * |\n",
        "| * * * * *|\n",
        "|* * * * * |\n",
        "+----------+\n",
        "```"
      ],
      "metadata": {
        "id": "t30zeFfSDzzh"
      }
    }
  ]
}